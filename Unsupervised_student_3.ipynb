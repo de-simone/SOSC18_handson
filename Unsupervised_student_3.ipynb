{
 "cells": [
  {
   "cell_type": "markdown",
   "metadata": {
    "slideshow": {
     "slide_type": "-"
    }
   },
   "source": [
    "***\n",
    "# <font color=blue>UNSUPERVISED LEARNING</font>\n",
    "# <font color=blue>Practice with PCA</font>\n",
    "# <font color=blue>(lecturer version)</font>\n",
    "<div style=\"text-align: right\"><font color=magenta>Andrea De Simone</font></div>\n",
    "***"
   ]
  },
  {
   "cell_type": "code",
   "execution_count": null,
   "metadata": {
    "collapsed": true,
    "scrolled": true
   },
   "outputs": [],
   "source": [
    "import numpy as np  \n",
    "import pandas as pd  \n",
    "from scipy import ndimage\n",
    "import matplotlib.pyplot as plt  \n",
    "%matplotlib inline\n",
    "from sklearn import datasets"
   ]
  },
  {
   "cell_type": "markdown",
   "metadata": {},
   "source": [
    "***\n",
    "# 1. PCA on IRIS data"
   ]
  },
  {
   "cell_type": "markdown",
   "metadata": {},
   "source": [
    "## 1.1 Load IRIS Dataset"
   ]
  },
  {
   "cell_type": "code",
   "execution_count": null,
   "metadata": {
    "collapsed": true
   },
   "outputs": [],
   "source": [
    "iris = datasets.load_iris()\n",
    "X = iris.data\n",
    "Y = iris.target"
   ]
  },
  {
   "cell_type": "code",
   "execution_count": null,
   "metadata": {
    "collapsed": true
   },
   "outputs": [],
   "source": [
    "def scatter_plot(X):\n",
    "    \n",
    "    fig, ax = plt.subplots()\n",
    "    ax.set_xlabel('$x_3$',size=16)\n",
    "    ax.set_ylabel('$x_4$',size=16)\n",
    "    \n",
    "    ax.scatter(X[:,2], X[:,3], c='blue', alpha=1, marker='x')\n",
    "    plt.show() "
   ]
  },
  {
   "cell_type": "code",
   "execution_count": null,
   "metadata": {},
   "outputs": [],
   "source": [
    "scatter_plot(X)"
   ]
  },
  {
   "cell_type": "markdown",
   "metadata": {},
   "source": [
    "## 1.2 Covariance matrix"
   ]
  },
  {
   "cell_type": "code",
   "execution_count": null,
   "metadata": {
    "collapsed": true
   },
   "outputs": [],
   "source": [
    "# Standardize features\n",
    "X_norm = (X - X.mean(axis=0)) / X.std(axis=0)"
   ]
  },
  {
   "cell_type": "markdown",
   "metadata": {},
   "source": [
    "### <font color='magenta'>>>> Q1: Compute the covariance matrix 'Sigma' out of 'X_norm' </font>"
   ]
  },
  {
   "cell_type": "code",
   "execution_count": null,
   "metadata": {},
   "outputs": [],
   "source": [
    "# Compute the covariance matrix\n",
    "\n",
    "# Stard Edit  \n",
    "#Sigma = \n",
    "# End Edit\n",
    "\n",
    "print(Sigma)"
   ]
  },
  {
   "cell_type": "markdown",
   "metadata": {},
   "source": [
    "## 1.3 Diagonalization"
   ]
  },
  {
   "cell_type": "code",
   "execution_count": null,
   "metadata": {},
   "outputs": [],
   "source": [
    "eigenValues, eigenVectors = np.linalg.eigh(Sigma)\n",
    "\n",
    "# Sort in descending order of eigenvalues\n",
    "idx = eigenValues.argsort()[::-1]  # list reverse\n",
    "eigenValues = eigenValues[idx]\n",
    "V = eigenVectors[:,idx]\n",
    "\n",
    "print(\"Eigenvalues = \",eigenValues)\n",
    "print(\"Eigenvectors = \\n\",V)"
   ]
  },
  {
   "cell_type": "code",
   "execution_count": null,
   "metadata": {},
   "outputs": [],
   "source": [
    "# check diagonalization\n",
    "V.T.dot(Sigma).dot(V)"
   ]
  },
  {
   "cell_type": "markdown",
   "metadata": {},
   "source": [
    "## 1.4 Project and recover data"
   ]
  },
  {
   "cell_type": "code",
   "execution_count": null,
   "metadata": {},
   "outputs": [],
   "source": [
    "# Set number of principal components\n",
    "k=2\n",
    "\n",
    "# Projection matrix\n",
    "W = V[:,:k]\n",
    "\n",
    "print(W)"
   ]
  },
  {
   "cell_type": "markdown",
   "metadata": {},
   "source": [
    "### <font color='magenta'>>>> Q2: Compute the projected data Z along principal components </font>"
   ]
  },
  {
   "cell_type": "code",
   "execution_count": null,
   "metadata": {},
   "outputs": [],
   "source": [
    "# Projected data\n",
    "\n",
    "# Start Edit\n",
    "#Z = \n",
    "# End Edit\n",
    "\n",
    "print(Z[:3])"
   ]
  },
  {
   "cell_type": "code",
   "execution_count": null,
   "metadata": {},
   "outputs": [],
   "source": [
    "# Recover data\n",
    "X_approx = Z.dot(W.T)\n",
    "X_approx[:10]"
   ]
  },
  {
   "cell_type": "code",
   "execution_count": null,
   "metadata": {},
   "outputs": [],
   "source": [
    "scatter_plot(X_approx)\n",
    "scatter_plot(X_norm)"
   ]
  },
  {
   "cell_type": "code",
   "execution_count": null,
   "metadata": {},
   "outputs": [],
   "source": [
    "# Set number of principal components\n",
    "k=3\n",
    "\n",
    "# Projection matrix\n",
    "W = V[:,:k]\n",
    "Z = X_norm.dot(W)\n",
    "X_approx = Z.dot(W.T)\n",
    "\n",
    "scatter_plot(X_approx)\n",
    "scatter_plot(X_norm)"
   ]
  },
  {
   "cell_type": "markdown",
   "metadata": {},
   "source": [
    "## 1.5 Explained Variance"
   ]
  },
  {
   "cell_type": "markdown",
   "metadata": {},
   "source": [
    "### <font color='magenta'>>>> Q3: Compute the % of variance explained for k=1,2,3</font>"
   ]
  },
  {
   "cell_type": "code",
   "execution_count": null,
   "metadata": {},
   "outputs": [],
   "source": [
    "# Start Edit\n",
    "\n",
    "# End Edit"
   ]
  },
  {
   "cell_type": "code",
   "execution_count": null,
   "metadata": {},
   "outputs": [],
   "source": [
    "D = X.shape[1]\n",
    "fig,ax = plt.subplots()\n",
    "\n",
    "ax.bar(range(D),eigenvalue_fractions, color='orange')\n",
    "ax.plot(range(D), var_explained, marker=\"o\")\n",
    "\n",
    "ax.set_xlabel(\"Principal Component\")\n",
    "ax.set_ylabel(\"% Variance explained\")\n",
    "\n",
    "ax.set_xticks(range(D))\n",
    "ax.set_xticklabels(range(1,D+1))\n",
    "plt.show()"
   ]
  },
  {
   "cell_type": "markdown",
   "metadata": {},
   "source": [
    "***\n",
    "# 2. PCA on Faces"
   ]
  },
  {
   "cell_type": "markdown",
   "metadata": {},
   "source": [
    "## 2.1 Load Dataset 'Faces'"
   ]
  },
  {
   "cell_type": "code",
   "execution_count": null,
   "metadata": {},
   "outputs": [],
   "source": [
    "# Load data\n",
    "X = np.loadtxt('dataset_faces.csv', delimiter=',')\n",
    "print(X[:2])\n",
    "print(X.shape) # 10 faces, each consists of 32x32 grayscale pixel values"
   ]
  },
  {
   "cell_type": "code",
   "execution_count": null,
   "metadata": {
    "collapsed": true
   },
   "outputs": [],
   "source": [
    "def plot_faces(X):\n",
    "    \n",
    "    N_faces = 10\n",
    "    fig, ax = plt.subplots(1,N_faces,figsize=(16,4))\n",
    "\n",
    "    for i in range(N_faces):\n",
    "\n",
    "        face = np.reshape(X[i,:], (32, 32))  \n",
    "        rotated_face = ndimage.rotate(face, 90)\n",
    "        ax[i].imshow(rotated_face, origin=\"lower\", cmap='gray')\n",
    "        ax[i].set_axis_off()\n",
    "\n",
    "    plt.show()"
   ]
  },
  {
   "cell_type": "code",
   "execution_count": null,
   "metadata": {},
   "outputs": [],
   "source": [
    "plot_faces(X)"
   ]
  },
  {
   "cell_type": "code",
   "execution_count": null,
   "metadata": {
    "collapsed": true
   },
   "outputs": [],
   "source": [
    "# Normalize Features\n",
    "X_norm = (X - X.mean(axis=0)) / X.std(axis=0)\n",
    "\n",
    "# Covariance Matrix\n",
    "Sigma = X_norm.T.dot(X_norm) / X_norm.shape[0]\n",
    "\n",
    "# Diagonalization\n",
    "eigenValues, eigenVectors = np.linalg.eigh(Sigma)\n",
    "\n",
    "# Sort in descending order of eigenvalues\n",
    "idx = eigenValues.argsort()[::-1]  # list reverse\n",
    "eigenValues = eigenValues[idx]\n",
    "V = eigenVectors[:,idx]"
   ]
  },
  {
   "cell_type": "markdown",
   "metadata": {},
   "source": [
    "## 2.2 Vary the number of principal components"
   ]
  },
  {
   "cell_type": "markdown",
   "metadata": {},
   "source": [
    "### <font color='magenta'>>>> Q4: for what number of principal components more than 95% of the variance is explained?</font>"
   ]
  },
  {
   "cell_type": "code",
   "execution_count": null,
   "metadata": {},
   "outputs": [],
   "source": [
    "# Start Edit\n",
    "\n",
    "# End Edit"
   ]
  },
  {
   "cell_type": "code",
   "execution_count": null,
   "metadata": {},
   "outputs": [],
   "source": [
    "max_pc=20\n",
    "fig,ax = plt.subplots()\n",
    "\n",
    "ax.bar(range(max_pc),eigenvalue_fractions[:max_pc], color='orange')\n",
    "ax.plot(range(max_pc), var_explained[:max_pc], marker=\"o\")\n",
    "\n",
    "ax.set_xlabel(\"Principal Component\")\n",
    "ax.set_ylabel(\"% Variance explained\")\n",
    "\n",
    "ax.set_xticks(range(max_pc))\n",
    "ax.set_xticklabels(range(1,max_pc+1))\n",
    "plt.show()"
   ]
  },
  {
   "cell_type": "code",
   "execution_count": null,
   "metadata": {},
   "outputs": [],
   "source": [
    "# Set number of principal components\n",
    "k=3\n",
    "\n",
    "# Projection matrix\n",
    "W = V[:,:k]\n",
    "\n",
    "# Projected data\n",
    "Z = X_norm.dot(W)\n",
    "\n",
    "# Recovered data\n",
    "X_approx = Z.dot(W.T)\n",
    "\n",
    "print(\"% of variance explained: {:.1f}%\".format(var_explained[k-1]))\n",
    "\n",
    "plot_faces(X.mean(axis=0)+ X_approx*X.std(axis=0))\n",
    "plot_faces(X)"
   ]
  },
  {
   "cell_type": "code",
   "execution_count": null,
   "metadata": {},
   "outputs": [],
   "source": [
    "# Set number of principal components\n",
    "k=5\n",
    "\n",
    "# Projection matrix\n",
    "W = V[:,:k]\n",
    "\n",
    "# Projected data\n",
    "Z = X_norm.dot(W)\n",
    "\n",
    "# Recovered data\n",
    "X_approx = Z.dot(W.T)\n",
    "\n",
    "print(\"% of variance explained: {:.1f}%\".format(var_explained[k-1]))\n",
    "\n",
    "plot_faces(X.mean(axis=0)+ X_approx*X.std(axis=0))\n",
    "plot_faces(X)"
   ]
  },
  {
   "cell_type": "code",
   "execution_count": null,
   "metadata": {},
   "outputs": [],
   "source": [
    "# Set number of principal components\n",
    "k=10\n",
    "\n",
    "# Projection matrix\n",
    "W = V[:,:k]\n",
    "\n",
    "# Projected data\n",
    "Z = X_norm.dot(W)\n",
    "\n",
    "# Recovered data\n",
    "X_approx = Z.dot(W.T)\n",
    "\n",
    "print(\"% of variance explained: {:.1f}%\".format(var_explained[k-1]))\n",
    "\n",
    "plot_faces(X.mean(axis=0)+ X_approx*X.std(axis=0))\n",
    "plot_faces(X)"
   ]
  }
 ],
 "metadata": {
  "kernelspec": {
   "display_name": "Python 3",
   "language": "python",
   "name": "python3"
  },
  "language_info": {
   "codemirror_mode": {
    "name": "ipython",
    "version": 3
   },
   "file_extension": ".py",
   "mimetype": "text/x-python",
   "name": "python",
   "nbconvert_exporter": "python",
   "pygments_lexer": "ipython3",
   "version": "3.6.1"
  }
 },
 "nbformat": 4,
 "nbformat_minor": 1
}
