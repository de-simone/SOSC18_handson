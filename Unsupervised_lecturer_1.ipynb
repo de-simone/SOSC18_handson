{
 "cells": [
  {
   "cell_type": "markdown",
   "metadata": {
    "slideshow": {
     "slide_type": "-"
    }
   },
   "source": [
    "***\n",
    "# <font color=blue>UNSUPERVISED LEARNING</font>\n",
    "# <font color=blue>Practice with K-means</font>\n",
    "# <font color=blue>(lecturer version)</font>\n",
    "<div style=\"text-align: right\"><font color=magenta>Andrea De Simone</font></div>\n",
    "***"
   ]
  },
  {
   "cell_type": "code",
   "execution_count": 2,
   "metadata": {
    "collapsed": true,
    "scrolled": true
   },
   "outputs": [],
   "source": [
    "import numpy as np  \n",
    "import pandas as pd  \n",
    "import matplotlib.pyplot as plt  \n",
    "%matplotlib inline\n",
    "from sklearn import datasets\n",
    "from sklearn.cluster import KMeans"
   ]
  },
  {
   "cell_type": "markdown",
   "metadata": {},
   "source": [
    "***\n",
    "# K-means Clustering"
   ]
  },
  {
   "cell_type": "markdown",
   "metadata": {},
   "source": [
    "## 1. 2-D Clustering"
   ]
  },
  {
   "cell_type": "markdown",
   "metadata": {},
   "source": [
    "### 1.1 Load Dataset 1"
   ]
  },
  {
   "cell_type": "code",
   "execution_count": 3,
   "metadata": {
    "collapsed": false
   },
   "outputs": [
    {
     "name": "stdout",
     "output_type": "stream",
     "text": [
      "[[1.84207953 4.6075716 ]\n",
      " [5.65858312 4.79996405]\n",
      " [6.35257892 3.2908545 ]\n",
      " [2.90401653 4.61220411]\n",
      " [3.23197916 4.93989405]\n",
      " [1.24792268 4.93267846]\n",
      " [1.97619886 4.43489674]\n",
      " [2.23454135 5.05547168]\n",
      " [2.98340757 4.84046406]\n",
      " [2.97970391 4.80671081]]\n",
      "(300, 2)\n"
     ]
    }
   ],
   "source": [
    "# Load data\n",
    "X = np.loadtxt('dataset1.csv', delimiter=',')\n",
    "print(X[:10])\n",
    "print(X.shape)"
   ]
  },
  {
   "cell_type": "markdown",
   "metadata": {},
   "source": [
    "### 1.2 Find Centroids"
   ]
  },
  {
   "cell_type": "code",
   "execution_count": 4,
   "metadata": {
    "collapsed": true
   },
   "outputs": [],
   "source": [
    "initial_centroids = np.array([[3, 3], [6, 2], [8, 5]])"
   ]
  },
  {
   "cell_type": "code",
   "execution_count": 5,
   "metadata": {
    "collapsed": true
   },
   "outputs": [],
   "source": [
    "def cluster_assignment(X, centroids):  \n",
    "    \"\"\"\n",
    "    Assign points to class of the closest centroid\n",
    "    \"\"\"\n",
    "    \n",
    "    m = X.shape[0]\n",
    "    k = centroids.shape[0]\n",
    "    idx = np.zeros(m)\n",
    "\n",
    "    # loop over dataset\n",
    "    for i in range(m):\n",
    "        \n",
    "        min_dist = 1000000    \n",
    "        \n",
    "        # loop over clusters (centroids)\n",
    "        for j in range(k):\n",
    "            \n",
    "            dist = np.sum((X[i,:] - centroids[j,:]) ** 2)\n",
    "            \n",
    "            if dist < min_dist:\n",
    "                min_dist = dist\n",
    "                idx[i] = j\n",
    "\n",
    "    return(idx)"
   ]
  },
  {
   "cell_type": "code",
   "execution_count": 7,
   "metadata": {
    "collapsed": false
   },
   "outputs": [
    {
     "data": {
      "text/plain": [
       "array([0., 2., 1., 0., 0.])"
      ]
     },
     "execution_count": 7,
     "metadata": {},
     "output_type": "execute_result"
    }
   ],
   "source": [
    "idx = cluster_assignment(X, initial_centroids)  \n",
    "idx[:5]"
   ]
  },
  {
   "cell_type": "code",
   "execution_count": 8,
   "metadata": {
    "collapsed": true
   },
   "outputs": [],
   "source": [
    "def move_centroids(X, idx, k):  \n",
    "    \"\"\"\n",
    "    Centroids are simple avg of intra-cluster distances\n",
    "    \"\"\"\n",
    "    m, n = X.shape\n",
    "    centroids = np.zeros((k, n))\n",
    "\n",
    "    # loop over centroids\n",
    "    for i in range(k):\n",
    "        # cluster partitions\n",
    "        indices = np.where(idx == i)\n",
    "        # update centroid        \n",
    "        centroids[i,:] = (np.sum(X[indices,:], axis=1) / len(indices[0])).ravel()\n",
    "\n",
    "    return(centroids)"
   ]
  },
  {
   "cell_type": "code",
   "execution_count": 9,
   "metadata": {
    "collapsed": false
   },
   "outputs": [
    {
     "data": {
      "text/plain": [
       "array([[2.42830111, 3.15792418],\n",
       "       [5.81350331, 2.63365645],\n",
       "       [7.11938687, 3.6166844 ]])"
      ]
     },
     "execution_count": 9,
     "metadata": {},
     "output_type": "execute_result"
    }
   ],
   "source": [
    "move_centroids(X, idx, 3)  "
   ]
  },
  {
   "cell_type": "markdown",
   "metadata": {},
   "source": [
    "### 1.3 K-means"
   ]
  },
  {
   "cell_type": "code",
   "execution_count": 10,
   "metadata": {
    "collapsed": true
   },
   "outputs": [],
   "source": [
    "def run_k_means(X, initial_centroids, tolerance):  \n",
    "    \"\"\"\n",
    "    Run K-means algorithm. \n",
    "    Stop when cluster assignment are stable (within tolerance).\n",
    "    Return cluster assignments and centroid positions.\n",
    "    \"\"\"\n",
    "    m, n = X.shape\n",
    "    k = initial_centroids.shape[0]\n",
    "\n",
    "    idx = np.zeros(m)\n",
    "    centroids = initial_centroids\n",
    "    \n",
    "    #tolerance = 1e-3\n",
    "    iteration = 0\n",
    "    \n",
    "    # Loop until assignments do not change\n",
    "    while True:\n",
    "        \n",
    "        iteration += 1        \n",
    "        idx_prev = idx\n",
    "        \n",
    "        idx = cluster_assignment(X, centroids)\n",
    "        centroids = move_centroids(X, idx, k)\n",
    "        \n",
    "        if iteration > 1:\n",
    "            if abs(np.mean(idx_prev-idx)) < tolerance:\n",
    "                print(\"Converged after {:d} iterations\".format(iteration))\n",
    "                break\n",
    "            \n",
    "            # avoid infinite loop\n",
    "            if iteration >= 10000:\n",
    "                break\n",
    "    \n",
    "    return(idx, centroids)"
   ]
  },
  {
   "cell_type": "code",
   "execution_count": 11,
   "metadata": {
    "collapsed": false
   },
   "outputs": [
    {
     "name": "stdout",
     "output_type": "stream",
     "text": [
      "Converged after 7 iterations\n"
     ]
    }
   ],
   "source": [
    "idx, centroids = run_k_means(X, initial_centroids, 1e-3)  \n"
   ]
  },
  {
   "cell_type": "code",
   "execution_count": 12,
   "metadata": {
    "collapsed": false
   },
   "outputs": [
    {
     "data": {
      "image/png": "[encoded data removed]",
      "text/plain": [
       "<matplotlib.figure.Figure at 0x1166e45c0>"
      ]
     },
     "metadata": {},
     "output_type": "display_data"
    }
   ],
   "source": [
    "# Plot data\n",
    "cluster1 = X[idx == 0,:]  #X[np.where(idx == 0)[0],:]  \n",
    "cluster2 = X[idx == 1,:]  #X[np.where(idx == 1)[0],:]  \n",
    "cluster3 = X[idx == 2,:]  #X[np.where(idx == 2)[0],:]\n",
    "\n",
    "fig, ax = plt.subplots()  \n",
    "ax.scatter(cluster1[:,0], cluster1[:,1], s=30, color='r', label='Cluster 1')  \n",
    "ax.scatter(cluster2[:,0], cluster2[:,1], s=30, color='g', label='Cluster 2')  \n",
    "ax.scatter(cluster3[:,0], cluster3[:,1], s=30, color='b', label='Cluster 3')  \n",
    "leg = ax.legend(frameon=True, loc='upper right')  \n",
    "ax.set_xlabel('$X_1$')  \n",
    "ax.set_ylabel('$X_2$')  \n",
    "plt.show()"
   ]
  },
  {
   "cell_type": "code",
   "execution_count": 13,
   "metadata": {
    "collapsed": true
   },
   "outputs": [],
   "source": [
    "def initialize_centroids(X, k): \n",
    "    \"\"\" \n",
    "    Random Initialization of k centroids\n",
    "    \"\"\"\n",
    "    \n",
    "    m, n = X.shape\n",
    "    centroids = np.zeros((k, n))\n",
    "    idx = np.random.randint(0, m, k)\n",
    "\n",
    "    for i in range(k):\n",
    "        centroids[i,:] = X[idx[i],:]\n",
    "\n",
    "    return(centroids)"
   ]
  },
  {
   "cell_type": "code",
   "execution_count": 14,
   "metadata": {
    "collapsed": false
   },
   "outputs": [
    {
     "data": {
      "text/plain": [
       "array([[5.02432984, 2.98683179],\n",
       "       [3.00677254, 0.62519128],\n",
       "       [0.94048944, 5.71556802]])"
      ]
     },
     "execution_count": 14,
     "metadata": {},
     "output_type": "execute_result"
    }
   ],
   "source": [
    "initialize_centroids(X, 3)  "
   ]
  },
  {
   "cell_type": "code",
   "execution_count": 15,
   "metadata": {
    "collapsed": false
   },
   "outputs": [
    {
     "name": "stdout",
     "output_type": "stream",
     "text": [
      "Converged after 4 iterations\n"
     ]
    },
    {
     "data": {
      "text/plain": [
       "array([[1.95399466, 5.02557006],\n",
       "       [3.04367119, 1.01541041],\n",
       "       [6.03366736, 3.00052511]])"
      ]
     },
     "execution_count": 15,
     "metadata": {},
     "output_type": "execute_result"
    }
   ],
   "source": [
    "idx, centroids = run_k_means(X, initialize_centroids(X, 3), 1e-3  )\n",
    "centroids"
   ]
  },
  {
   "cell_type": "code",
   "execution_count": 16,
   "metadata": {
    "collapsed": false
   },
   "outputs": [
    {
     "name": "stdout",
     "output_type": "stream",
     "text": [
      "[[6.03366736 3.00052511]\n",
      " [3.04367119 1.01541041]\n",
      " [1.95399466 5.02557006]]\n"
     ]
    }
   ],
   "source": [
    "km = KMeans(n_clusters=3, init='random')\n",
    "km.fit(X)\n",
    "print(km.cluster_centers_)"
   ]
  },
  {
   "cell_type": "markdown",
   "metadata": {},
   "source": [
    "### 1.4  Choose K"
   ]
  },
  {
   "cell_type": "code",
   "execution_count": 62,
   "metadata": {
    "collapsed": true
   },
   "outputs": [],
   "source": [
    "# Loss function\n",
    "def Loss(X, idx, centroids):  \n",
    "    \"\"\"\n",
    "    Sum of intra-cluster squared distances\n",
    "    \"\"\"\n",
    "    k = centroids.shape[0]\n",
    "    loss = 0\n",
    "    \n",
    "    for j in range(k):\n",
    "        x_cluster = X[np.where(idx == j)[0],:]\n",
    "        centroid = centroids[j]\n",
    "        loss += np.sum(np.square((x_cluster-centroid)))\n",
    "        \n",
    "    return( loss )"
   ]
  },
  {
   "cell_type": "code",
   "execution_count": 63,
   "metadata": {
    "collapsed": false
   },
   "outputs": [
    {
     "data": {
      "text/plain": [
       "133.0396693732136"
      ]
     },
     "execution_count": 63,
     "metadata": {},
     "output_type": "execute_result"
    }
   ],
   "source": [
    "Loss(X, idx, centroids)"
   ]
  },
  {
   "cell_type": "markdown",
   "metadata": {},
   "source": [
    "<font color='red'>>>> Q: compute loss function for K = 1 to 10</font>"
   ]
  },
  {
   "cell_type": "code",
   "execution_count": 76,
   "metadata": {
    "collapsed": false
   },
   "outputs": [
    {
     "name": "stdout",
     "output_type": "stream",
     "text": [
      "Converged after 2 iterations\n",
      "Converged after 21 iterations\n",
      "Converged after 3 iterations\n",
      "Converged after 4 iterations\n",
      "Converged after 4 iterations\n",
      "Converged after 18 iterations\n",
      "Converged after 9 iterations\n",
      "Converged after 7 iterations\n",
      "Converged after 15 iterations\n"
     ]
    }
   ],
   "source": [
    "Loss_list = list()\n",
    "K_list = range(1,10)\n",
    "\n",
    "for K in K_list:\n",
    "    initial_centroids = initialize_centroids(X, K) \n",
    "    idx, centroids = run_k_means(X, initial_centroids, 1e-3)  \n",
    "    Loss_list.append(Loss(X,idx,centroids))\n"
   ]
  },
  {
   "cell_type": "code",
   "execution_count": 77,
   "metadata": {
    "collapsed": true
   },
   "outputs": [],
   "source": [
    "def Plot_Loss_K(Loss_list,K_list):\n",
    "    \n",
    "    fig, ax = plt.subplots()\n",
    "    ax.plot(K_list,Loss_list, marker=\"o\")\n",
    "    ax.tick_params(labelsize=12)\n",
    "    ax.set_xlabel(\"K\", fontsize=14)\n",
    "    ax.set_ylabel(\"Loss\",fontsize=14)\n",
    "    plt.show()"
   ]
  },
  {
   "cell_type": "code",
   "execution_count": 78,
   "metadata": {
    "collapsed": false
   },
   "outputs": [
    {
     "data": {
      "image/png": "[encoded data removed]",
      "text/plain": [
       "<matplotlib.figure.Figure at 0x118869a58>"
      ]
     },
     "metadata": {},
     "output_type": "display_data"
    }
   ],
   "source": [
    "Plot_Loss_K(Loss_list,K_list)"
   ]
  },
  {
   "cell_type": "code",
   "execution_count": null,
   "metadata": {
    "collapsed": true
   },
   "outputs": [],
   "source": [
    "\n",
    "\n",
    "\n",
    "\n",
    "\n",
    "\n",
    "\n",
    "\n",
    "\n",
    "\n",
    "\n",
    "\n"
   ]
  },
  {
   "cell_type": "markdown",
   "metadata": {},
   "source": [
    "## 2. Image compression"
   ]
  },
  {
   "cell_type": "markdown",
   "metadata": {},
   "source": [
    "<img src=\"parrot.jpg\", height=\"150\" width=\"200\">"
   ]
  },
  {
   "cell_type": "markdown",
   "metadata": {},
   "source": [
    "### 2.1 Load Dataset 'Parrot'"
   ]
  },
  {
   "cell_type": "code",
   "execution_count": 192,
   "metadata": {
    "collapsed": true
   },
   "outputs": [],
   "source": [
    "#import imageio\n",
    "#im = imageio.imread('parrot.jpg')\n",
    "#im_arr= np.array(im)\n",
    "#im_arr.shape\n",
    "#np.savetxt(\"parrot.csv\", im_arr.reshape((3,-1)), fmt=\"%s\", delimiter=\",\", header=str(im_arr.shape))"
   ]
  },
  {
   "cell_type": "code",
   "execution_count": 51,
   "metadata": {
    "collapsed": false
   },
   "outputs": [
    {
     "name": "stdout",
     "output_type": "stream",
     "text": [
      "[[[ 103.  165.  114.]\n",
      "  [  99.  161.  110.]\n",
      "  [  93.  155.  106.]\n",
      "  ..., \n",
      "  [  44.  108.   14.]\n",
      "  [  62.  124.   47.]\n",
      "  [  83.  145.   78.]]\n",
      "\n",
      " [[  83.  143.   91.]\n",
      "  [  94.  154.  103.]\n",
      "  [ 101.  160.  112.]\n",
      "  ..., \n",
      "  [  54.  116.   30.]\n",
      "  [  69.  132.   61.]\n",
      "  [  81.  145.   84.]]\n",
      "\n",
      " [[  68.  122.   72.]\n",
      "  [  70.  124.   74.]\n",
      "  [  75.  129.   80.]\n",
      "  ..., \n",
      "  [  69.  131.   54.]\n",
      "  [  83.  148.   84.]\n",
      "  [  89.  152.   97.]]]\n",
      "(300, 2)\n"
     ]
    }
   ],
   "source": [
    "A = np.loadtxt('dataset_parrot.csv', delimiter=',').reshape((150,200,3))\n",
    "print(A[:3])\n",
    "print(X.shape)\n",
    "# RGB values"
   ]
  },
  {
   "cell_type": "code",
   "execution_count": 57,
   "metadata": {
    "collapsed": true
   },
   "outputs": [],
   "source": [
    "# normalize value ranges\n",
    "A_norm = A / 255."
   ]
  },
  {
   "cell_type": "code",
   "execution_count": 60,
   "metadata": {
    "collapsed": false
   },
   "outputs": [
    {
     "name": "stdout",
     "output_type": "stream",
     "text": [
      "Converged after 8 iterations\n"
     ]
    },
    {
     "data": {
      "image/png": "[encoded data removed]",
      "text/plain": [
       "<matplotlib.figure.Figure at 0x1a1ba869b0>"
      ]
     },
     "metadata": {},
     "output_type": "display_data"
    }
   ],
   "source": [
    "# Set number of colors\n",
    "Ncolors = 8\n",
    "\n",
    "# reshape the array\n",
    "X = np.reshape(A_norm, (A_norm.shape[0] * A_norm.shape[1], A_norm.shape[2]))\n",
    "\n",
    "# randomly initialize the centroids\n",
    "initial_centroids = initialize_centroids(X, Ncolors)\n",
    "\n",
    "# run the algorithm\n",
    "idx, centroids = run_k_means(X, initial_centroids, 1e-3)\n",
    "\n",
    "# get the closest centroids one last time\n",
    "#idx = cluster_assignment(X, centroids)\n",
    "\n",
    "# map each pixel to the centroid value\n",
    "X_recovered = centroids[idx.astype(int),:]\n",
    "\n",
    "# reshape to the original dimensions\n",
    "X_recovered = np.reshape(X_recovered, (A_norm.shape[0], A_norm.shape[1], A_norm.shape[2]))\n",
    "\n",
    "plt.imshow(X_recovered) \n",
    "plt.show()"
   ]
  },
  {
   "cell_type": "code",
   "execution_count": null,
   "metadata": {
    "collapsed": true
   },
   "outputs": [],
   "source": [
    "\n",
    "\n",
    "\n",
    "\n",
    "\n",
    "\n",
    "\n",
    "\n",
    "\n",
    "\n",
    "\n"
   ]
  },
  {
   "cell_type": "markdown",
   "metadata": {
    "collapsed": true
   },
   "source": [
    "## 3. IRIS dataset"
   ]
  },
  {
   "cell_type": "markdown",
   "metadata": {},
   "source": [
    "### 3.1 Load Dataset 'IRIS'"
   ]
  },
  {
   "cell_type": "code",
   "execution_count": 108,
   "metadata": {
    "collapsed": true
   },
   "outputs": [],
   "source": [
    "iris = datasets.load_iris()\n",
    "X_iris = iris.data\n",
    "Y_iris = iris.target"
   ]
  },
  {
   "cell_type": "code",
   "execution_count": 156,
   "metadata": {
    "collapsed": false
   },
   "outputs": [
    {
     "name": "stdout",
     "output_type": "stream",
     "text": [
      "Converged after 6 iterations\n"
     ]
    }
   ],
   "source": [
    "K=9\n",
    "initial_centroids = initialize_centroids(X_iris, K)\n",
    "\n",
    "# run the algorithm\n",
    "idx, centroids = run_k_means(X_iris, initial_centroids, 1e-4)"
   ]
  },
  {
   "cell_type": "code",
   "execution_count": 157,
   "metadata": {
    "collapsed": true
   },
   "outputs": [],
   "source": [
    "cluster1 = X_iris[idx == 0,:]  #X_iris[np.where(idx == 0)[0],:]  \n",
    "cluster2 = X_iris[idx == 1,:]  #X_iris[np.where(idx == 1)[0],:]  \n",
    "cluster3 = X_iris[idx == 2,:]  #X_iris[np.where(idx == 2)[0],:]\n",
    "\n",
    "true1 = X_iris[Y_iris == 0,:]  \n",
    "true2 = X_iris[Y_iris == 1,:]  \n",
    "true3 = X_iris[Y_iris == 2,:]  "
   ]
  },
  {
   "cell_type": "code",
   "execution_count": 122,
   "metadata": {
    "collapsed": false
   },
   "outputs": [
    {
     "name": "stdout",
     "output_type": "stream",
     "text": [
      "(20, 4)\n",
      "(10, 4)\n",
      "(20, 4)\n",
      "\n",
      "(50, 4)\n",
      "(50, 4)\n",
      "(50, 4)\n"
     ]
    }
   ],
   "source": [
    "print(cluster1.shape)\n",
    "print(cluster2.shape)\n",
    "print(cluster3.shape)\n",
    "print(\"\")\n",
    "print(true1.shape)\n",
    "print(true2.shape)\n",
    "print(true3.shape)"
   ]
  },
  {
   "cell_type": "code",
   "execution_count": 123,
   "metadata": {
    "collapsed": false
   },
   "outputs": [],
   "source": [
    "def plot_clusters_vs_true(cluster1,cluster2,cluster3, true1, true2, true3):\n",
    "    \n",
    "    # Plot clusters\n",
    "    fig, ((ax1, ax2), (ax3, ax4)) = plt.subplots(nrows=2, ncols=2,figsize=(14,10))  \n",
    "\n",
    "    ax1.set_title(\"Predicted\")\n",
    "    ax1.scatter(cluster1[:,0], cluster1[:,1], s=30, color='b',label='cluster 1')  \n",
    "    ax1.scatter(cluster2[:,0], cluster2[:,1], s=30, color='r', label='cluster 2')  \n",
    "    ax1.scatter(cluster3[:,0], cluster3[:,1], s=30, color='g', label='cluster 3')  \n",
    "    ax1.legend(frameon=True, loc='lower right')  \n",
    "    ax1.set_xlabel('sepal length [cm]')  \n",
    "    ax1.set_ylabel('sepal width [cm]')  \n",
    "\n",
    "    ax2.set_title(\"True\")\n",
    "    ax2.scatter(true1[:,0], true1[:,1], s=30, color='orange', label='setosa')  \n",
    "    ax2.scatter(true2[:,0], true2[:,1], s=30, color='purple', label='versicolor')  \n",
    "    ax2.scatter(true3[:,0], true3[:,1], s=30, color='pink', label='virginica')  \n",
    "    ax2.legend(frameon=True, loc='lower right')  \n",
    "    ax2.set_xlabel('sepal length [cm]')  \n",
    "    ax2.set_ylabel('sepal width [cm]')  \n",
    "\n",
    "    ax3.set_title(\"Predicted\")\n",
    "    ax3.scatter(cluster1[:,2], cluster1[:,3], s=30, color='b',label='cluster 1')  \n",
    "    ax3.scatter(cluster2[:,2], cluster2[:,3], s=30, color='r', label='cluster 2')  \n",
    "    ax3.scatter(cluster3[:,2], cluster3[:,3], s=30, color='g', label='cluster 3')  \n",
    "    ax3.legend(frameon=True, loc='lower right')  \n",
    "    ax3.set_xlabel('petal length [cm]')  \n",
    "    ax3.set_ylabel('petal width [cm]')  \n",
    "\n",
    "    ax4.set_title(\"True\")\n",
    "    ax4.scatter(true1[:,2], true1[:,3], s=30, color='orange', label='setosa')  \n",
    "    ax4.scatter(true2[:,2], true2[:,3], s=30, color='purple', label='versicolor')  \n",
    "    ax4.scatter(true3[:,2], true3[:,3], s=30, color='pink', label='virginica')  \n",
    "    ax4.legend(frameon=True, loc='lower right')  \n",
    "    ax4.set_xlabel('petal length [cm]')  \n",
    "    ax4.set_ylabel('petal width [cm]') \n",
    "\n",
    "    plt.show()"
   ]
  },
  {
   "cell_type": "code",
   "execution_count": 112,
   "metadata": {
    "collapsed": false
   },
   "outputs": [
    {
     "data": {
      "image/png": "[encoded data removed]",
      "text/plain": [
       "<matplotlib.figure.Figure at 0x117125c88>"
      ]
     },
     "metadata": {},
     "output_type": "display_data"
    }
   ],
   "source": [
    "plot_clusters_vs_true(cluster1,cluster2,cluster3,true1,true2,true3)"
   ]
  },
  {
   "cell_type": "markdown",
   "metadata": {},
   "source": [
    "### 3.x Assign Clusters to Classes"
   ]
  },
  {
   "cell_type": "code",
   "execution_count": 160,
   "metadata": {
    "collapsed": false
   },
   "outputs": [
    {
     "name": "stdout",
     "output_type": "stream",
     "text": [
      "[[6.45       3.01666667 4.60555556 1.43888889]\n",
      " [6.2        2.3        4.7        1.45      ]\n",
      " [7.12272727 3.11363636 6.03181818 2.13181818]\n",
      " [5.24285714 2.37142857 3.44285714 1.02857143]\n",
      " [5.62857143 2.72380952 4.13333333 1.2952381 ]\n",
      " [6.20357143 2.90714286 5.18928571 1.95      ]\n",
      " [4.69       3.085      1.385      0.19      ]\n",
      " [5.12173913 3.5173913  1.53043478 0.27826087]\n",
      " [5.52857143 4.04285714 1.47142857 0.28571429]]\n",
      "[[5.006 3.418 1.464 0.244]\n",
      " [5.936 2.77  4.26  1.326]\n",
      " [6.588 2.974 5.552 2.026]]\n"
     ]
    }
   ],
   "source": [
    "true_centroids = np.zeros((3, 4))\n",
    "for i in range(3):\n",
    "    true_centroids[i] = np.mean(X_iris[Y_iris==i],axis=0)\n",
    "print(centroids)\n",
    "print(true_centroids)"
   ]
  },
  {
   "cell_type": "code",
   "execution_count": 161,
   "metadata": {
    "collapsed": false
   },
   "outputs": [
    {
     "name": "stdout",
     "output_type": "stream",
     "text": [
      "[3.68012706 0.67616047 1.12308548]\n",
      "[3.82121604 0.70680407 1.2893797 ]\n",
      "[5.38534976 2.30544794 0.73949614]\n",
      "[2.38387101 1.18130962 2.75968277]\n",
      "[3.01661028 0.33710032 1.87875664]\n"
     ]
    }
   ],
   "source": [
    "print(np.linalg.norm(centroids[0]-true_centroids, axis=1))\n",
    "print(np.linalg.norm(centroids[1]-true_centroids, axis=1))\n",
    "print(np.linalg.norm(centroids[2]-true_centroids, axis=1))\n",
    "print(np.linalg.norm(centroids[3]-true_centroids, axis=1))\n",
    "print(np.linalg.norm(centroids[4]-true_centroids, axis=1))"
   ]
  },
  {
   "cell_type": "code",
   "execution_count": 162,
   "metadata": {
    "collapsed": false
   },
   "outputs": [],
   "source": [
    "# assign clusters to classes\n",
    "for i in range(K):\n",
    "    c = np.argmin(np.linalg.norm(centroids[i]-true_centroids, axis=1))\n",
    "    idx[idx == i] = c"
   ]
  },
  {
   "cell_type": "code",
   "execution_count": 163,
   "metadata": {
    "collapsed": false
   },
   "outputs": [
    {
     "data": {
      "text/plain": [
       "array([0., 0., 0., 0., 0., 0., 0., 0., 0., 0., 0., 0., 0., 0., 0., 0., 0.,\n",
       "       0., 0., 0., 0., 0., 0., 0., 0., 0., 0., 0., 0., 0., 0., 0., 0., 0.,\n",
       "       0., 0., 0., 0., 0., 0., 0., 0., 0., 0., 0., 0., 0., 0., 0., 0., 1.,\n",
       "       1., 1., 1., 1., 1., 1., 1., 1., 1., 1., 1., 1., 1., 1., 1., 1., 1.,\n",
       "       1., 1., 2., 1., 1., 1., 1., 1., 1., 1., 1., 1., 1., 1., 1., 2., 1.,\n",
       "       1., 1., 1., 1., 1., 1., 1., 1., 1., 1., 1., 1., 1., 1., 1., 2., 2.,\n",
       "       2., 2., 2., 2., 1., 2., 2., 2., 2., 2., 2., 2., 2., 2., 2., 2., 2.,\n",
       "       1., 2., 2., 2., 2., 2., 2., 2., 2., 2., 2., 2., 2., 2., 2., 2., 2.,\n",
       "       2., 2., 2., 2., 2., 2., 2., 2., 2., 2., 2., 2., 2., 2.])"
      ]
     },
     "execution_count": 163,
     "metadata": {},
     "output_type": "execute_result"
    }
   ],
   "source": [
    "idx"
   ]
  },
  {
   "cell_type": "code",
   "execution_count": 164,
   "metadata": {
    "collapsed": false
   },
   "outputs": [
    {
     "name": "stdout",
     "output_type": "stream",
     "text": [
      "(50, 4)\n",
      "(50, 4)\n",
      "(50, 4)\n"
     ]
    }
   ],
   "source": [
    "cluster1 = X_iris[idx == 0,:]  #X_iris[np.where(idx == 0)[0],:]  \n",
    "cluster2 = X_iris[idx == 1,:]  #X_iris[np.where(idx == 1)[0],:]  \n",
    "cluster3 = X_iris[idx == 2,:]  #X_iris[np.where(idx == 2)[0],:]\n",
    "\n",
    "true1 = X_iris[Y_iris == 0,:]  \n",
    "true2 = X_iris[Y_iris == 1,:]  \n",
    "true3 = X_iris[Y_iris == 2,:]  \n",
    "\n",
    "print(cluster1.shape)\n",
    "print(cluster2.shape)\n",
    "print(cluster3.shape)"
   ]
  },
  {
   "cell_type": "code",
   "execution_count": 166,
   "metadata": {
    "collapsed": false
   },
   "outputs": [
    {
     "data": {
      "image/png": "[encoded data removed]",
      "text/plain": [
       "<matplotlib.figure.Figure at 0x11680dd68>"
      ]
     },
     "metadata": {},
     "output_type": "display_data"
    }
   ],
   "source": [
    "plot_clusters_vs_true(cluster1,cluster2,cluster3,true1,true2,true3)"
   ]
  },
  {
   "cell_type": "markdown",
   "metadata": {},
   "source": [
    "### 3.x Evaluate Performance"
   ]
  },
  {
   "cell_type": "code",
   "execution_count": 165,
   "metadata": {
    "collapsed": false
   },
   "outputs": [
    {
     "name": "stdout",
     "output_type": "stream",
     "text": [
      "correct assignments = 0.97%\n"
     ]
    }
   ],
   "source": [
    "tot = Y_iris.shape[0]\n",
    "correct = 0 \n",
    "for i in range(3):\n",
    "    correct += np.sum(np.logical_and(idx == i, Y_iris == i))\n",
    "\n",
    "print(\"correct assignments = {:.2f}%\".format(correct/tot))"
   ]
  },
  {
   "cell_type": "code",
   "execution_count": null,
   "metadata": {
    "collapsed": true
   },
   "outputs": [],
   "source": []
  },
  {
   "cell_type": "markdown",
   "metadata": {},
   "source": [
    "### 3.x Vary K"
   ]
  },
  {
   "cell_type": "code",
   "execution_count": 167,
   "metadata": {
    "collapsed": false
   },
   "outputs": [
    {
     "name": "stdout",
     "output_type": "stream",
     "text": [
      "Converged after 2 iterations\n"
     ]
    },
    {
     "ename": "NameError",
     "evalue": "name 'Loss' is not defined",
     "output_type": "error",
     "traceback": [
      "\u001b[0;31m---------------------------------------------------------------------------\u001b[0m",
      "\u001b[0;31mNameError\u001b[0m                                 Traceback (most recent call last)",
      "\u001b[0;32m<ipython-input-167-82fe4e61f4ec>\u001b[0m in \u001b[0;36m<module>\u001b[0;34m()\u001b[0m\n\u001b[1;32m      5\u001b[0m     \u001b[0minitial_centroids\u001b[0m \u001b[0;34m=\u001b[0m \u001b[0minitialize_centroids\u001b[0m\u001b[0;34m(\u001b[0m\u001b[0mX_iris\u001b[0m\u001b[0;34m,\u001b[0m \u001b[0mK\u001b[0m\u001b[0;34m)\u001b[0m\u001b[0;34m\u001b[0m\u001b[0m\n\u001b[1;32m      6\u001b[0m     \u001b[0midx\u001b[0m\u001b[0;34m,\u001b[0m \u001b[0mcentroids\u001b[0m \u001b[0;34m=\u001b[0m \u001b[0mrun_k_means\u001b[0m\u001b[0;34m(\u001b[0m\u001b[0mX_iris\u001b[0m\u001b[0;34m,\u001b[0m \u001b[0minitial_centroids\u001b[0m\u001b[0;34m,\u001b[0m \u001b[0;36m1e-10\u001b[0m\u001b[0;34m)\u001b[0m\u001b[0;34m\u001b[0m\u001b[0m\n\u001b[0;32m----> 7\u001b[0;31m     \u001b[0mLoss_list\u001b[0m\u001b[0;34m.\u001b[0m\u001b[0mappend\u001b[0m\u001b[0;34m(\u001b[0m\u001b[0mLoss\u001b[0m\u001b[0;34m(\u001b[0m\u001b[0mX_iris\u001b[0m\u001b[0;34m,\u001b[0m\u001b[0midx\u001b[0m\u001b[0;34m,\u001b[0m\u001b[0mcentroids\u001b[0m\u001b[0;34m)\u001b[0m\u001b[0;34m)\u001b[0m\u001b[0;34m\u001b[0m\u001b[0m\n\u001b[0m",
      "\u001b[0;31mNameError\u001b[0m: name 'Loss' is not defined"
     ]
    }
   ],
   "source": [
    "Loss_list = list()\n",
    "K_list = range(1,10)\n",
    "\n",
    "for K in K_list:\n",
    "    initial_centroids = initialize_centroids(X_iris, K) \n",
    "    idx, centroids = run_k_means(X_iris, initial_centroids, 1e-10)  \n",
    "    Loss_list.append(Loss(X_iris,idx,centroids))\n"
   ]
  },
  {
   "cell_type": "code",
   "execution_count": 136,
   "metadata": {
    "collapsed": false
   },
   "outputs": [
    {
     "data": {
      "image/png": "[encoded data removed]",
      "text/plain": [
       "<matplotlib.figure.Figure at 0x118879e10>"
      ]
     },
     "metadata": {},
     "output_type": "display_data"
    }
   ],
   "source": [
    "Plot_Loss_K(Loss_list,K_list)"
   ]
  }
 ],
 "metadata": {
  "kernelspec": {
   "display_name": "Python 3",
   "language": "python",
   "name": "python3"
  },
  "language_info": {
   "codemirror_mode": {
    "name": "ipython",
    "version": 3
   },
   "file_extension": ".py",
   "mimetype": "text/x-python",
   "name": "python",
   "nbconvert_exporter": "python",
   "pygments_lexer": "ipython3",
   "version": "3.5.4"
  }
 },
 "nbformat": 4,
 "nbformat_minor": 1
}
