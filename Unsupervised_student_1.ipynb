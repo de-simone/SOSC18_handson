{
 "cells": [
  {
   "cell_type": "markdown",
   "metadata": {
    "slideshow": {
     "slide_type": "-"
    }
   },
   "source": [
    "***\n",
    "# <font color=blue>UNSUPERVISED LEARNING</font>\n",
    "# <font color=blue>Practice with K-means</font>\n",
    "# <font color=blue>(student version)</font>\n",
    "<div style=\"text-align: right\"><font color=magenta>Andrea De Simone</font></div>\n",
    "***"
   ]
  },
  {
   "cell_type": "code",
   "execution_count": null,
   "metadata": {
    "collapsed": true,
    "scrolled": true
   },
   "outputs": [],
   "source": [
    "import numpy as np  \n",
    "import pandas as pd  \n",
    "import matplotlib.pyplot as plt  \n",
    "%matplotlib inline\n",
    "from sklearn import datasets\n",
    "from sklearn.cluster import KMeans"
   ]
  },
  {
   "cell_type": "markdown",
   "metadata": {},
   "source": [
    "***\n",
    "# 1.  2-D Clustering"
   ]
  },
  {
   "cell_type": "markdown",
   "metadata": {},
   "source": [
    "## 1.1 Load Dataset 1"
   ]
  },
  {
   "cell_type": "code",
   "execution_count": null,
   "metadata": {},
   "outputs": [],
   "source": [
    "# Load data\n",
    "X = np.loadtxt('dataset1.csv', delimiter=',')\n",
    "print(X.shape)"
   ]
  },
  {
   "cell_type": "code",
   "execution_count": null,
   "metadata": {},
   "outputs": [],
   "source": [
    "fig, ax = plt.subplots()\n",
    "ax.set_xlabel('$x_1$',size=16)\n",
    "ax.set_ylabel('$x_2$',size=16)\n",
    "\n",
    "ax.scatter(X[:,0], X[:,1], alpha=0.5)\n",
    "plt.show() "
   ]
  },
  {
   "cell_type": "markdown",
   "metadata": {},
   "source": [
    "## 1.2 Plot data and initial centroids"
   ]
  },
  {
   "cell_type": "code",
   "execution_count": null,
   "metadata": {
    "collapsed": true
   },
   "outputs": [],
   "source": [
    "initial_centroids = np.array([[3, 3], [6, 2], [8, 5]])"
   ]
  },
  {
   "cell_type": "code",
   "execution_count": null,
   "metadata": {
    "collapsed": true
   },
   "outputs": [],
   "source": [
    "def scatter_plot(data, centroids):\n",
    "    fig, ax = plt.subplots()\n",
    "    ax.set_xlabel('$x_1$',size=16)\n",
    "    ax.set_ylabel('$x_2$',size=16)\n",
    "\n",
    "    ax.scatter(data[:,0], data[:,1], alpha=0.5)\n",
    "    ax.scatter(centroids[:,0], centroids[:,1], alpha=1, c='r',marker='x',s=100)\n",
    "    plt.show() "
   ]
  },
  {
   "cell_type": "code",
   "execution_count": null,
   "metadata": {},
   "outputs": [],
   "source": [
    "scatter_plot(X,initial_centroids)"
   ]
  },
  {
   "cell_type": "markdown",
   "metadata": {},
   "source": [
    "## 1.3 Assign points to clusters"
   ]
  },
  {
   "cell_type": "markdown",
   "metadata": {},
   "source": [
    "### <font color='magenta'>>>> Q1: Assign points to clusters. What is the cluster assignment of the 150th point? </font>"
   ]
  },
  {
   "cell_type": "code",
   "execution_count": null,
   "metadata": {
    "collapsed": true
   },
   "outputs": [],
   "source": [
    "def cluster_assignment(X, centroids):  \n",
    "    \"\"\"\n",
    "    Assign points of X to cluster of the closest centroid.\n",
    "    \"\"\"\n",
    "    \n",
    "    N = X.shape[0]\n",
    "    tags = np.zeros(N)\n",
    "\n",
    "    # loop over dataset\n",
    "    for i in range(N):\n",
    "        \n",
    "        dist = np.sum(np.square( X[i,:] - centroids ), axis=1)\n",
    "        \n",
    "        # Stard Edit \n",
    "            \n",
    "        # End Edit\n",
    "        \n",
    "    return(tags)"
   ]
  },
  {
   "cell_type": "code",
   "execution_count": null,
   "metadata": {},
   "outputs": [],
   "source": [
    "tags = cluster_assignment(X, initial_centroids)  \n",
    "print(tags[104])"
   ]
  },
  {
   "cell_type": "markdown",
   "metadata": {},
   "source": [
    "## 1.4 Update centroids"
   ]
  },
  {
   "cell_type": "code",
   "execution_count": null,
   "metadata": {
    "collapsed": true
   },
   "outputs": [],
   "source": [
    "def move_centroids(X, tags, k):  \n",
    "    \"\"\"\n",
    "    Update centroid positions.\n",
    "    Centroids are simple avg of intra-cluster distances\n",
    "    \"\"\"\n",
    "    D = X.shape[1]\n",
    "    centroids = np.zeros((k, D))\n",
    "\n",
    "    # loop over centroids\n",
    "    for i in range(k):\n",
    "        \n",
    "        # cluster partitions (list)\n",
    "        indices = np.where(tags == i)\n",
    "        # points in cluster\n",
    "        N_points = len(indices[0])\n",
    "        \n",
    "        # update centroid    \n",
    "        if N_points != 0:\n",
    "            centroids[i,:] = ( np.sum(X[indices,:], axis=1) / N_points ).ravel()\n",
    "            \n",
    "    return(centroids)"
   ]
  },
  {
   "cell_type": "code",
   "execution_count": null,
   "metadata": {},
   "outputs": [],
   "source": [
    "centroids = move_centroids(X,tags,3)\n",
    "centroids"
   ]
  },
  {
   "cell_type": "code",
   "execution_count": null,
   "metadata": {},
   "outputs": [],
   "source": [
    "scatter_plot(X, centroids)"
   ]
  },
  {
   "cell_type": "markdown",
   "metadata": {},
   "source": [
    "## 1.5 K-means algorithm"
   ]
  },
  {
   "cell_type": "code",
   "execution_count": null,
   "metadata": {
    "collapsed": true
   },
   "outputs": [],
   "source": [
    "def run_k_means(X, initial_centroids):  \n",
    "    \"\"\"\n",
    "    Run K-means algorithm. \n",
    "    Stop when centroid positions are stable (within tolerance).\n",
    "    Return cluster assignments and centroid positions.\n",
    "    \"\"\"\n",
    "    N = X.shape[0]\n",
    "    k = initial_centroids.shape[0]\n",
    "\n",
    "    tags = np.zeros(N)\n",
    "    centroids = initial_centroids\n",
    "    \n",
    "    tolerance = 1e-5\n",
    "    iteration = 0\n",
    "\n",
    "    # Loop until centroid positions are stable\n",
    "    while True:\n",
    "        \n",
    "        iteration += 1        \n",
    "        centroids_prev = centroids\n",
    "        \n",
    "        # Assign points to clusters\n",
    "        tags = cluster_assignment(X, centroids)\n",
    "        \n",
    "        # Update centroid positions\n",
    "        centroids = move_centroids(X, tags, k)\n",
    "        \n",
    "        # check distance between current and previous centroid positions\n",
    "        dist = np.sum(np.square( centroids_prev - centroids ))        \n",
    "        if dist < tolerance:            \n",
    "            print(\"Converged after {:d} iterations\".format(iteration))\n",
    "            break\n",
    "            \n",
    "        # avoid infinite loop\n",
    "        if iteration >= 10000:\n",
    "            break\n",
    "\n",
    "    return(tags, centroids)"
   ]
  },
  {
   "cell_type": "code",
   "execution_count": null,
   "metadata": {},
   "outputs": [],
   "source": [
    "tags, centroids = run_k_means(X, initial_centroids)  "
   ]
  },
  {
   "cell_type": "code",
   "execution_count": null,
   "metadata": {},
   "outputs": [],
   "source": [
    "scatter_plot(X, centroids)"
   ]
  },
  {
   "cell_type": "markdown",
   "metadata": {},
   "source": [
    "### <font color='magenta'>>>> Q2: Group coordinates of points in each cluster</font>"
   ]
  },
  {
   "cell_type": "code",
   "execution_count": null,
   "metadata": {
    "collapsed": true
   },
   "outputs": [],
   "source": [
    "# Start Edit\n",
    "#cluster1 =    # coordinates of points tagged in first cluster \n",
    "#cluster2 =    # coordinates of points tagged in second cluster \n",
    "#cluster3 =    # coordinates of points tagged in third cluster \n",
    "# End Edit"
   ]
  },
  {
   "cell_type": "code",
   "execution_count": null,
   "metadata": {},
   "outputs": [],
   "source": [
    "# Plot colored clusters\n",
    "fig, ax = plt.subplots()  \n",
    "ax.scatter(cluster1[:,0], cluster1[:,1], s=30, color='r', label='Cluster 1')  \n",
    "ax.scatter(cluster2[:,0], cluster2[:,1], s=30, color='g', label='Cluster 2')  \n",
    "ax.scatter(cluster3[:,0], cluster3[:,1], s=30, color='b', label='Cluster 3')  \n",
    "leg = ax.legend(frameon=True, loc='upper right')  \n",
    "ax.set_xlabel('$X_1$')  \n",
    "ax.set_ylabel('$X_2$')  \n",
    "plt.show()"
   ]
  },
  {
   "cell_type": "markdown",
   "metadata": {},
   "source": [
    "## 1.6 Random initialization of centroids"
   ]
  },
  {
   "cell_type": "markdown",
   "metadata": {},
   "source": [
    "### <font color='magenta'>>>> Q3: Complete the function 'initialize_centroids'. Run K-means with random initialization and find centroid coordinates. </font>"
   ]
  },
  {
   "cell_type": "code",
   "execution_count": null,
   "metadata": {
    "collapsed": true
   },
   "outputs": [],
   "source": [
    "def initialize_centroids(X, k): \n",
    "    \"\"\" \n",
    "    Random Initialization of k centroids.\n",
    "    Choose k random points among the data points.\n",
    "    \"\"\"\n",
    "    \n",
    "    N, D = X.shape\n",
    "    centroids = np.zeros((k, D))\n",
    "    \n",
    "    # Start Edit    \n",
    "\n",
    "    # End Edit\n",
    "    \n",
    "    return(centroids)"
   ]
  },
  {
   "cell_type": "code",
   "execution_count": null,
   "metadata": {},
   "outputs": [],
   "source": [
    "# random 3-D array filled with integers between 0 and 299\n",
    "np.random.randint(0, 300, 3) "
   ]
  },
  {
   "cell_type": "code",
   "execution_count": null,
   "metadata": {},
   "outputs": [],
   "source": [
    "initialize_centroids(X, 3)  "
   ]
  },
  {
   "cell_type": "code",
   "execution_count": null,
   "metadata": {},
   "outputs": [],
   "source": [
    "tags, centroids = run_k_means(X, initialize_centroids(X, 3))\n",
    "print(centroids)\n",
    "%time"
   ]
  },
  {
   "cell_type": "code",
   "execution_count": null,
   "metadata": {},
   "outputs": [],
   "source": [
    "# Compare with SKlearn KMeans\n",
    "km = KMeans(n_clusters=3, init='random')\n",
    "km.fit(X)\n",
    "print(km.cluster_centers_)\n",
    "%time"
   ]
  },
  {
   "cell_type": "markdown",
   "metadata": {},
   "source": [
    "## 1.7  Choose K"
   ]
  },
  {
   "cell_type": "code",
   "execution_count": null,
   "metadata": {
    "collapsed": true
   },
   "outputs": [],
   "source": [
    "# Loss function\n",
    "def Loss(X, tags, centroids):  \n",
    "    \"\"\"\n",
    "    Sum of intra-cluster squared distances\n",
    "    \"\"\"\n",
    "    k = centroids.shape[0]\n",
    "    loss = 0\n",
    "    \n",
    "    for j in range(k):\n",
    "        cluster_points = X[tags == j]\n",
    "        centroid = centroids[j]\n",
    "        loss += np.sum(np.square( cluster_points - centroid ))\n",
    "        \n",
    "    return( loss )"
   ]
  },
  {
   "cell_type": "code",
   "execution_count": null,
   "metadata": {},
   "outputs": [],
   "source": [
    "Loss(X, tags, centroids)"
   ]
  },
  {
   "cell_type": "markdown",
   "metadata": {},
   "source": [
    "### <font color='magenta'>>>> Q4: compute loss function for K = 1 to 10 (values in 'K_list'). Fill list 'Loss_list' with the values of the loss function.</font>"
   ]
  },
  {
   "cell_type": "code",
   "execution_count": null,
   "metadata": {},
   "outputs": [],
   "source": [
    "Loss_list = list()\n",
    "K_list = range(1,11)\n",
    "\n",
    "for K in K_list:\n",
    "    \n",
    "    tags, centroids = run_k_means(X, initialize_centroids(X, K) )  \n",
    "    \n",
    "    Loss_list.append(Loss(X,tags,centroids))\n"
   ]
  },
  {
   "cell_type": "code",
   "execution_count": null,
   "metadata": {
    "collapsed": true
   },
   "outputs": [],
   "source": [
    "def Plot_Loss_K(Loss_list,K_list):\n",
    "    \n",
    "    fig, ax = plt.subplots()\n",
    "    ax.plot(K_list,Loss_list, marker=\"o\")\n",
    "    ax.tick_params(labelsize=12)\n",
    "    ax.set_xticks(K_list)\n",
    "    ax.set_xlabel(\"K\", fontsize=14)\n",
    "    ax.set_ylabel(\"Loss\",fontsize=14)\n",
    "    plt.show()"
   ]
  },
  {
   "cell_type": "code",
   "execution_count": null,
   "metadata": {},
   "outputs": [],
   "source": [
    "Plot_Loss_K(Loss_list,K_list)"
   ]
  },
  {
   "cell_type": "markdown",
   "metadata": {
    "collapsed": true
   },
   "source": [
    "***\n",
    "# 2. IRIS dataset"
   ]
  },
  {
   "cell_type": "markdown",
   "metadata": {},
   "source": [
    "## 2.1 Load IRIS Dataset"
   ]
  },
  {
   "cell_type": "code",
   "execution_count": null,
   "metadata": {
    "collapsed": true
   },
   "outputs": [],
   "source": [
    "iris = datasets.load_iris()\n",
    "X_iris = iris.data\n",
    "Y_iris = iris.target"
   ]
  },
  {
   "cell_type": "code",
   "execution_count": null,
   "metadata": {},
   "outputs": [],
   "source": [
    "# set number of clusters\n",
    "K=3\n",
    "\n",
    "# run the algorithm\n",
    "tags, centroids = run_k_means(X_iris, initialize_centroids(X_iris, K))"
   ]
  },
  {
   "cell_type": "code",
   "execution_count": null,
   "metadata": {},
   "outputs": [],
   "source": [
    "cluster1 = X_iris[tags == 0,:]  \n",
    "cluster2 = X_iris[tags == 1,:]  \n",
    "cluster3 = X_iris[tags == 2,:]  \n",
    "\n",
    "true1 = X_iris[Y_iris == 0,:]  \n",
    "true2 = X_iris[Y_iris == 1,:]  \n",
    "true3 = X_iris[Y_iris == 2,:]  \n",
    "\n",
    "print(cluster1.shape)\n",
    "print(cluster2.shape)\n",
    "print(cluster3.shape)\n",
    "print(\"\")\n",
    "print(true1.shape)\n",
    "print(true2.shape)\n",
    "print(true3.shape)"
   ]
  },
  {
   "cell_type": "code",
   "execution_count": null,
   "metadata": {
    "collapsed": true
   },
   "outputs": [],
   "source": [
    "def plot_predicted_vs_true(cluster1,cluster2,cluster3, true1, true2, true3):\n",
    "    \n",
    "    # Plot clusters\n",
    "    fig, ((ax1, ax2), (ax3, ax4)) = plt.subplots(nrows=2, ncols=2,figsize=(12,10))  \n",
    "\n",
    "    ax1.set_title(\"Predicted\")\n",
    "    ax1.scatter(cluster1[:,0], cluster1[:,1], s=30, color='b',label='cluster 1')  \n",
    "    ax1.scatter(cluster2[:,0], cluster2[:,1], s=30, color='r', label='cluster 2')  \n",
    "    ax1.scatter(cluster3[:,0], cluster3[:,1], s=30, color='g', label='cluster 3')  \n",
    "    ax1.legend(frameon=True, loc='lower right')  \n",
    "    ax1.set_xlabel('sepal length [cm]')  \n",
    "    ax1.set_ylabel('sepal width [cm]')  \n",
    "\n",
    "    ax2.set_title(\"True\")\n",
    "    ax2.scatter(true1[:,0], true1[:,1], s=30, color='orange', label='setosa')  \n",
    "    ax2.scatter(true2[:,0], true2[:,1], s=30, color='purple', label='versicolor')  \n",
    "    ax2.scatter(true3[:,0], true3[:,1], s=30, color='pink', label='virginica')  \n",
    "    ax2.legend(frameon=True, loc='lower right')  \n",
    "    ax2.set_xlabel('sepal length [cm]')  \n",
    "    ax2.set_ylabel('sepal width [cm]')  \n",
    "\n",
    "    ax3.set_title(\"Predicted\")\n",
    "    ax3.scatter(cluster1[:,2], cluster1[:,3], s=30, color='b',label='cluster 1')  \n",
    "    ax3.scatter(cluster2[:,2], cluster2[:,3], s=30, color='r', label='cluster 2')  \n",
    "    ax3.scatter(cluster3[:,2], cluster3[:,3], s=30, color='g', label='cluster 3')  \n",
    "    ax3.legend(frameon=True, loc='lower right')  \n",
    "    ax3.set_xlabel('petal length [cm]')  \n",
    "    ax3.set_ylabel('petal width [cm]')  \n",
    "\n",
    "    ax4.set_title(\"True\")\n",
    "    ax4.scatter(true1[:,2], true1[:,3], s=30, color='orange', label='setosa')  \n",
    "    ax4.scatter(true2[:,2], true2[:,3], s=30, color='purple', label='versicolor')  \n",
    "    ax4.scatter(true3[:,2], true3[:,3], s=30, color='pink', label='virginica')  \n",
    "    ax4.legend(frameon=True, loc='lower right')  \n",
    "    ax4.set_xlabel('petal length [cm]')  \n",
    "    ax4.set_ylabel('petal width [cm]') \n",
    "\n",
    "    plt.show()"
   ]
  },
  {
   "cell_type": "code",
   "execution_count": null,
   "metadata": {},
   "outputs": [],
   "source": [
    "plot_predicted_vs_true(cluster1,cluster2,cluster3,true1,true2,true3)"
   ]
  },
  {
   "cell_type": "markdown",
   "metadata": {},
   "source": [
    "## 2.2 Assign Clusters to Classes"
   ]
  },
  {
   "cell_type": "code",
   "execution_count": null,
   "metadata": {},
   "outputs": [],
   "source": [
    "true_centroids = np.zeros((3, 4))  # 3 clusters, 4 features\n",
    "\n",
    "for i in range(3):\n",
    "    true_centroids[i] = np.mean(X_iris[Y_iris==i],axis=0)\n",
    "    \n",
    "print(true_centroids)\n",
    "print(\"\")\n",
    "print(centroids)"
   ]
  },
  {
   "cell_type": "code",
   "execution_count": null,
   "metadata": {},
   "outputs": [],
   "source": [
    "print(np.sum(np.square(centroids[0]-true_centroids), axis=1))\n",
    "print(np.sum(np.square(centroids[1]-true_centroids), axis=1))\n",
    "print(np.sum(np.square(centroids[2]-true_centroids), axis=1))"
   ]
  },
  {
   "cell_type": "markdown",
   "metadata": {},
   "source": [
    "### <font color='magenta'>>>> Q5: Assign clusters to true classes. </font>"
   ]
  },
  {
   "cell_type": "code",
   "execution_count": null,
   "metadata": {
    "collapsed": true
   },
   "outputs": [],
   "source": [
    "tags_new = np.copy(tags)\n",
    "\n",
    "# assign clusters to classes\n",
    "for i in range(K):\n",
    "    \n",
    "    # Start Edit\n",
    "    \n",
    "    # End Edit"
   ]
  },
  {
   "cell_type": "code",
   "execution_count": null,
   "metadata": {},
   "outputs": [],
   "source": [
    "cluster1 = X_iris[tags_new == 0,:]  \n",
    "cluster2 = X_iris[tags_new == 1,:]  \n",
    "cluster3 = X_iris[tags_new == 2,:]  \n",
    "\n",
    "true1 = X_iris[Y_iris == 0,:]  \n",
    "true2 = X_iris[Y_iris == 1,:]  \n",
    "true3 = X_iris[Y_iris == 2,:]  \n",
    "\n",
    "plot_predicted_vs_true(cluster1,cluster2,cluster3,true1,true2,true3)"
   ]
  },
  {
   "cell_type": "markdown",
   "metadata": {},
   "source": [
    "## 2.3 Evaluate Performance"
   ]
  },
  {
   "cell_type": "markdown",
   "metadata": {},
   "source": [
    "### <font color='magenta'>>>> Q6: find fraction of points correctly assigned to true clusters </font>"
   ]
  },
  {
   "cell_type": "code",
   "execution_count": null,
   "metadata": {},
   "outputs": [],
   "source": [
    "correct = 0 \n",
    "tot = Y_iris.shape[0]\n",
    "\n",
    "for i in range(3):\n",
    "    \n",
    "    # Start Edit\n",
    "    \n",
    "    # End Edit\n",
    "    \n",
    "print(\"Correct assignments = {:.1f}%\".format(correct/tot * 100))"
   ]
  },
  {
   "cell_type": "markdown",
   "metadata": {},
   "source": [
    "***\n",
    "# 3. Image compression (bonus, no questions)"
   ]
  },
  {
   "cell_type": "markdown",
   "metadata": {},
   "source": [
    "<img src=\"parrot.jpg\", height=\"150\" width=\"200\">"
   ]
  },
  {
   "cell_type": "markdown",
   "metadata": {},
   "source": [
    "## 3.1 Load Dataset 'Parrot'"
   ]
  },
  {
   "cell_type": "code",
   "execution_count": null,
   "metadata": {},
   "outputs": [],
   "source": [
    "A = np.loadtxt('dataset_parrot.csv', delimiter=',').reshape((150,200,3))\n",
    "print(A[:3])\n",
    "print(X.shape)\n",
    "# RGB values"
   ]
  },
  {
   "cell_type": "code",
   "execution_count": null,
   "metadata": {},
   "outputs": [],
   "source": [
    "# normalize value ranges\n",
    "A_norm = A / 255.\n",
    "\n",
    "# reshape the array\n",
    "X_p = np.reshape(A_norm, (A_norm.shape[0] * A_norm.shape[1], A_norm.shape[2]))\n",
    "\n",
    "print(A_norm.shape)\n",
    "print(X_p.shape)"
   ]
  },
  {
   "cell_type": "markdown",
   "metadata": {},
   "source": [
    "## 3.2 Reconstruct image from centroids"
   ]
  },
  {
   "cell_type": "code",
   "execution_count": null,
   "metadata": {},
   "outputs": [],
   "source": [
    "# Set number of colors\n",
    "Ncolors = 8\n",
    "\n",
    "# randomly initialize the centroids\n",
    "initial_centroids = initialize_centroids(X_p, Ncolors)\n",
    "\n",
    "# run the algorithm\n",
    "tags, centroids = run_k_means(X_p, initial_centroids)\n",
    "\n",
    "# map each pixel to the centroid value\n",
    "X_recovered = centroids[tags.astype(int),:]\n",
    "\n",
    "# reshape to the original dimensions\n",
    "X_recovered = np.reshape(X_recovered, (A_norm.shape[0], A_norm.shape[1], A_norm.shape[2]))\n",
    "\n",
    "plt.imshow(X_recovered) \n",
    "plt.show()"
   ]
  }
 ],
 "metadata": {
  "kernelspec": {
   "display_name": "Python 3",
   "language": "python",
   "name": "python3"
  },
  "language_info": {
   "codemirror_mode": {
    "name": "ipython",
    "version": 3
   },
   "file_extension": ".py",
   "mimetype": "text/x-python",
   "name": "python",
   "nbconvert_exporter": "python",
   "pygments_lexer": "ipython3",
   "version": "3.6.1"
  }
 },
 "nbformat": 4,
 "nbformat_minor": 1
}
