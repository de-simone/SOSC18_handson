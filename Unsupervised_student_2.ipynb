{
 "cells": [
  {
   "cell_type": "markdown",
   "metadata": {
    "slideshow": {
     "slide_type": "-"
    }
   },
   "source": [
    "***\n",
    "# <font color=blue>UNSUPERVISED LEARNING</font>\n",
    "# <font color=blue>Practice with Anomaly Detection</font>\n",
    "# <font color=blue>(student version)</font>\n",
    "<div style=\"text-align: right\"><font color=magenta>Andrea De Simone</font></div>\n",
    "***"
   ]
  },
  {
   "cell_type": "code",
   "execution_count": null,
   "metadata": {
    "collapsed": true,
    "scrolled": true
   },
   "outputs": [],
   "source": [
    "import numpy as np  \n",
    "import pandas as pd  \n",
    "from scipy.stats import multivariate_normal  \n",
    "import matplotlib.pyplot as plt  \n",
    "%matplotlib inline\n",
    "from sklearn.neighbors import NearestNeighbors"
   ]
  },
  {
   "cell_type": "markdown",
   "metadata": {},
   "source": [
    "***\n",
    "# 1. Model-Based Anomaly Detection"
   ]
  },
  {
   "cell_type": "markdown",
   "metadata": {},
   "source": [
    "## 1.1 Load Dataset 2 (training data)"
   ]
  },
  {
   "cell_type": "code",
   "execution_count": null,
   "metadata": {},
   "outputs": [],
   "source": [
    "# Load data\n",
    "X_tr = np.loadtxt('dataset2_tr.csv', delimiter=',')\n",
    "print(X_tr.shape)"
   ]
  },
  {
   "cell_type": "code",
   "execution_count": null,
   "metadata": {
    "collapsed": true
   },
   "outputs": [],
   "source": [
    "def scatter_plot(X):\n",
    "    \n",
    "    fig, ax = plt.subplots()\n",
    "    ax.set_xlabel('$x_1$',size=16)\n",
    "    ax.set_ylabel('$x_2$',size=16)\n",
    "    \n",
    "    ax.scatter(X[:,0], X[:,1], c='blue', alpha=0.5, marker='x')\n",
    "    plt.show() "
   ]
  },
  {
   "cell_type": "code",
   "execution_count": null,
   "metadata": {},
   "outputs": [],
   "source": [
    "scatter_plot(X_tr)"
   ]
  },
  {
   "cell_type": "markdown",
   "metadata": {},
   "source": [
    "## 1.2 Gaussian Model"
   ]
  },
  {
   "cell_type": "code",
   "execution_count": null,
   "metadata": {},
   "outputs": [],
   "source": [
    "# Gaussian Parameters\n",
    "mu = np.mean(X_tr, axis=0)\n",
    "sigma = np.cov(X_tr.T)\n",
    "\n",
    "print(\"mean =\", mu)\n",
    "print(\"covariance = \\n\",sigma)\n",
    "\n",
    "p = multivariate_normal.pdf(X_tr,mean=mu, cov=sigma)"
   ]
  },
  {
   "cell_type": "code",
   "execution_count": null,
   "metadata": {},
   "outputs": [],
   "source": [
    "# Plot gaussian levels\n",
    "fig,ax=plt.subplots()\n",
    "\n",
    "xx, yy = np.meshgrid(np.arange(4, 25, .1),\n",
    "                     np.arange(4, 25, .1))\n",
    "XYpoints = np.c_[xx.ravel(), yy.ravel()] \n",
    "Z =  multivariate_normal.pdf(XYpoints,mean=mu, cov=sigma)\n",
    "Z = Z.reshape(xx.shape)\n",
    "\n",
    "ax.contour(xx, yy, Z, levels=[1e-7,1e-5,1e-3], \n",
    "           colors='green',\n",
    "           linestyles= ['dotted','dashed','solid'])\n",
    "plt.show()"
   ]
  },
  {
   "cell_type": "markdown",
   "metadata": {},
   "source": [
    "## 1.3  Outliers with $p<\\epsilon$"
   ]
  },
  {
   "cell_type": "markdown",
   "metadata": {},
   "source": [
    "### <font color='magenta'>>>> Q1: Complete the function 'gaussian_outliers'. Find number and coordinates of outliers with $p<10^{-5}$</font>"
   ]
  },
  {
   "cell_type": "code",
   "execution_count": null,
   "metadata": {
    "collapsed": true
   },
   "outputs": [],
   "source": [
    "def gaussian_outliers(X, p, epsilon):\n",
    "    \"\"\"\n",
    "    Find coordinates of outliers with p<epsilon\n",
    "    (where p contains the probability density of each point of the set X)\n",
    "    \"\"\"\n",
    "    # Start Edit\n",
    "    \n",
    "\n",
    "    #print(\"Number of outliers = \", )\n",
    "    #print(\"Coordinates of outliers = \\n\", outliers)\n",
    "    # End Edit\n",
    "    \n",
    "    return(outliers)"
   ]
  },
  {
   "cell_type": "code",
   "execution_count": null,
   "metadata": {
    "scrolled": true
   },
   "outputs": [],
   "source": [
    "# Find outliers\n",
    "epsilon = 1e-5\n",
    "outliers = gaussian_outliers(X_tr, p, epsilon)\n"
   ]
  },
  {
   "cell_type": "code",
   "execution_count": null,
   "metadata": {
    "collapsed": true
   },
   "outputs": [],
   "source": [
    "def plot_outliers_with_contour(X, outliers, eps):\n",
    "\n",
    "    mu = np.mean(X, axis=0)\n",
    "    sigma = np.cov(X.T)\n",
    "\n",
    "    fig,ax=plt.subplots()\n",
    "\n",
    "    xx, yy = np.meshgrid(np.arange(X[:,0].min()-1, X[:,0].max()+1, .1),\n",
    "                         np.arange(X[:,1].min()-1, X[:,1].max()+1, .1))\n",
    "    XYpoints = np.c_[xx.ravel(), yy.ravel()] \n",
    "    Z =  multivariate_normal.pdf(XYpoints,mean=mu, cov=sigma)\n",
    "    Z = Z.reshape(xx.shape)\n",
    "\n",
    "    ax.contour(xx, yy, Z, levels=[eps], colors='green',linestyles='dashed')\n",
    "    ax.plot(X[:,0],X[:,1], marker='x',c='blue',linestyle = 'None')  \n",
    "    ax.plot(outliers[:,0], outliers[:,1], marker='s',c='red',linestyle = 'None')  \n",
    "    ax.set_xlabel('$x_1$',size=16)\n",
    "    ax.set_ylabel('$x_2$',size=16)\n",
    "    plt.show()"
   ]
  },
  {
   "cell_type": "code",
   "execution_count": null,
   "metadata": {},
   "outputs": [],
   "source": [
    "plot_outliers_with_contour(X_tr, outliers, epsilon)"
   ]
  },
  {
   "cell_type": "markdown",
   "metadata": {},
   "source": [
    "### <font color='magenta'>>>> Q2: find number and coordinates of outliers with $p<10^{-2}$ and $p<10^{-8}$</font>"
   ]
  },
  {
   "cell_type": "code",
   "execution_count": null,
   "metadata": {},
   "outputs": [],
   "source": [
    "# Start Edit\n",
    "#epsilon = \n",
    "\n",
    "#outliers = \n",
    "# End Edit\n",
    "\n",
    "plot_outliers_with_contour(X_tr, outliers, epsilon)"
   ]
  },
  {
   "cell_type": "code",
   "execution_count": null,
   "metadata": {},
   "outputs": [],
   "source": [
    "# Start Edit\n",
    "#epsilon = \n",
    "\n",
    "#outliers = \n",
    "# End Edit\n",
    "\n",
    "plot_outliers_with_contour(X_tr, outliers, epsilon)"
   ]
  },
  {
   "cell_type": "markdown",
   "metadata": {},
   "source": [
    "## 1.5 Load dataset 2 (validation data)"
   ]
  },
  {
   "cell_type": "code",
   "execution_count": null,
   "metadata": {},
   "outputs": [],
   "source": [
    "# Load CV data (X_cv != X_tr)\n",
    "X_cv = np.loadtxt('dataset2_cv.csv', delimiter=',')\n",
    "Y_cv = np.loadtxt('dataset2_cv_labels.csv')\n",
    "print(Y_cv[:10])\n",
    "print(X_cv.shape)\n",
    "print(Y_cv.shape)"
   ]
  },
  {
   "cell_type": "markdown",
   "metadata": {},
   "source": [
    "## 1.5 Optimal threshold $\\epsilon$"
   ]
  },
  {
   "cell_type": "code",
   "execution_count": null,
   "metadata": {
    "collapsed": true
   },
   "outputs": [],
   "source": [
    "mu_cv = np.mean(X_cv, axis=0)\n",
    "sigma_cv = np.cov(X_cv.T)\n",
    "p_cv = multivariate_normal.pdf(X_cv,mean=mu_cv, cov=sigma_cv)"
   ]
  },
  {
   "cell_type": "markdown",
   "metadata": {},
   "source": [
    "### <font color='magenta'>>>> Q3: complete function 'select_epsilon' by defining the variables 'tp' (True Positives), 'fp' (False Positives) and 'fn' (False Negatives) </font>"
   ]
  },
  {
   "cell_type": "code",
   "execution_count": null,
   "metadata": {
    "collapsed": true
   },
   "outputs": [],
   "source": [
    "def select_epsilon(prob_cv, y_cv):\n",
    "    \n",
    "    best_epsilon = 0\n",
    "    best_f1 = 0\n",
    "    f1 = 0\n",
    "    \n",
    "    stepsize = (prob_cv.max() - prob_cv.min()) / 1000\n",
    "\n",
    "    for epsilon in np.arange(prob_cv.min(),prob_cv.max(),stepsize):\n",
    "        \n",
    "        preds = (prob_cv < epsilon) \n",
    "        \n",
    "        # Start Edit\n",
    "        # True Positives (predicted 1, actual 1)\n",
    "        #tp = \n",
    "        # False Positives (predicted 1, actual 0)\n",
    "        #fp = \n",
    "        # True Negatives (predicted 0, actual 1)\n",
    "        #fn = \n",
    "        # End Edit\n",
    "        \n",
    "        # Precision\n",
    "        if (tp + fp) != 0:\n",
    "            precision = tp / (tp + fp)\n",
    "        else:\n",
    "            precision = 0\n",
    "\n",
    "        # Recall\n",
    "        if (tp + fn) != 0:\n",
    "            recall = tp / (tp + fn)\n",
    "        else:\n",
    "            recall = 0\n",
    "\n",
    "        # F1-score\n",
    "        if (precision + recall) != 0:                \n",
    "            f1 = (2 * precision * recall) / (precision + recall)\n",
    "        else:\n",
    "            f1 = 0       \n",
    "            \n",
    "        if f1 > best_f1:\n",
    "            best_epsilon = epsilon\n",
    "            best_f1 = f1\n",
    "       \n",
    "    return(best_epsilon, best_f1)"
   ]
  },
  {
   "cell_type": "code",
   "execution_count": null,
   "metadata": {},
   "outputs": [],
   "source": [
    "optimal_epsilon, f1score = select_epsilon(p_cv, Y_cv)\n",
    "print(\"optimal epsilon=\",optimal_epsilon)\n",
    "print(\"optimal f1-score =\",f1score)"
   ]
  },
  {
   "cell_type": "code",
   "execution_count": null,
   "metadata": {},
   "outputs": [],
   "source": [
    "# Apply optimal epsilon to unlabelled (training) data\n",
    "\n",
    "mu = np.mean(X_tr, axis=0)\n",
    "sigma = np.cov(X_tr.T)\n",
    "p = multivariate_normal.pdf(X_tr,mean=mu, cov=sigma)\n",
    "\n",
    "outliers = gaussian_outliers(X_tr, p, optimal_epsilon)\n",
    "\n",
    "plot_outliers_with_contour(X_tr, outliers, optimal_epsilon)"
   ]
  },
  {
   "cell_type": "markdown",
   "metadata": {
    "collapsed": true
   },
   "source": [
    "***\n",
    "# 2. Distance-Based Anomaly Detection"
   ]
  },
  {
   "cell_type": "markdown",
   "metadata": {},
   "source": [
    "## 2.1 Compute Nearest Neighbors distances"
   ]
  },
  {
   "cell_type": "code",
   "execution_count": null,
   "metadata": {},
   "outputs": [],
   "source": [
    "K=5\n",
    "\n",
    "nbrs = NearestNeighbors(n_neighbors=K,algorithm='kd_tree').fit(X_tr)\n",
    "\n",
    "dist, _ = nbrs.kneighbors(X_tr,  n_neighbors = K+1, return_distance=True)\n",
    "\n",
    "print(dist[:5])"
   ]
  },
  {
   "cell_type": "code",
   "execution_count": null,
   "metadata": {
    "collapsed": true
   },
   "outputs": [],
   "source": [
    "dist_Kth = dist[:,-1] # distances to the Kth NN"
   ]
  },
  {
   "cell_type": "code",
   "execution_count": null,
   "metadata": {},
   "outputs": [],
   "source": [
    "# Append kth-NN distance to point coordinates (3rd dimension)\n",
    "X_ext = np.concatenate((X_tr, dist_Kth[:,np.newaxis]),axis=1)\n",
    "print(X_ext[:5])"
   ]
  },
  {
   "cell_type": "code",
   "execution_count": null,
   "metadata": {
    "collapsed": true
   },
   "outputs": [],
   "source": [
    "def scatter_plot_with_distances(X, dist):\n",
    "    # Input is coordinate array X and the array of distances to the Kth NN    \n",
    "    fig, ax = plt.subplots()\n",
    "\n",
    "    ax.xaxis.set_tick_params(labelsize=12, direction='inout', length=6, width=1, color='gray')\n",
    "    ax.yaxis.set_tick_params(labelsize=12, direction='inout', length=6, width=1, color='gray')\n",
    "    ax.set_xlabel('$x_1$',size=16)\n",
    "    ax.set_ylabel('$x_2$',size=16)\n",
    "\n",
    "    sc = ax.scatter(X[:,0], X[:,1], c=dist, cmap='brg', alpha=.5, marker='x',s=100)\n",
    "    cb = plt.colorbar(sc)\n",
    "    cb.set_label('distance to $k^{th}$ nearest neighbor')\n",
    "    plt.show() "
   ]
  },
  {
   "cell_type": "code",
   "execution_count": null,
   "metadata": {},
   "outputs": [],
   "source": [
    "scatter_plot_with_distances(X_tr, dist[:,-1])"
   ]
  },
  {
   "cell_type": "code",
   "execution_count": null,
   "metadata": {},
   "outputs": [],
   "source": [
    "# Sort from smallest to largest kNN distance\n",
    "X_ext_sorted = X_ext[X_ext[:,-1].argsort()]\n",
    "print(X_ext_sorted[:5])\n",
    "print(\"\")\n",
    "print(X_ext_sorted[-5:])\n",
    "\n",
    "\n",
    "print(\"\\nhighest kNN distance:             \", X_ext_sorted[-1])\n",
    "print(\"second to highest kNN distance: \", X_ext_sorted[-2])"
   ]
  },
  {
   "cell_type": "markdown",
   "metadata": {},
   "source": [
    "## 2.2 Top n outliers"
   ]
  },
  {
   "cell_type": "markdown",
   "metadata": {},
   "source": [
    "### <font color='magenta'>>>> Q4: Find coordinates of top 5 outliers (the 5 points with the largest kNN distances). Find the coordinates of the 'normal' (not anomalous) points. </font>"
   ]
  },
  {
   "cell_type": "code",
   "execution_count": null,
   "metadata": {
    "collapsed": true
   },
   "outputs": [],
   "source": [
    "# Select top n outliers\n",
    "n_outliers = 5\n",
    "\n",
    "# Start Edit\n",
    "#outliers = \n",
    "#normal = \n",
    "# End Edit"
   ]
  },
  {
   "cell_type": "code",
   "execution_count": null,
   "metadata": {
    "collapsed": true
   },
   "outputs": [],
   "source": [
    "def plot_outliers(normal, outliers):\n",
    "        \n",
    "    fig,ax=plt.subplots()\n",
    "        \n",
    "    ax.plot(normal[:,0],normal[:,1], marker='x',c='blue',linestyle = 'None')  \n",
    "    ax.plot(outliers[:,0], outliers[:,1], marker='s',c='red',linestyle = 'None')  \n",
    "    \n",
    "    ax.set_xlabel('$x_1$',size=16)\n",
    "    ax.set_ylabel('$x_2$',size=16)\n",
    "    plt.show()"
   ]
  },
  {
   "cell_type": "code",
   "execution_count": null,
   "metadata": {},
   "outputs": [],
   "source": [
    "print(\"Number of outliers =\", outliers.shape[0])\n",
    "plot_outliers(normal,outliers)"
   ]
  },
  {
   "cell_type": "markdown",
   "metadata": {},
   "source": [
    "## 2.3 Outliers with KNN distance > threshold"
   ]
  },
  {
   "cell_type": "markdown",
   "metadata": {},
   "source": [
    "### <font color='magenta'>>>> Q5: Complete the function 'KNN_outliers'. Find coordinates of points whose Kth-NN distance > threshold (outliers) and Kth-NN distance $\\leq$ threshold (normal points).</font>"
   ]
  },
  {
   "cell_type": "code",
   "execution_count": null,
   "metadata": {
    "collapsed": true
   },
   "outputs": [],
   "source": [
    "def KNN_outliers(x_sorted, threshold):\n",
    "    \"\"\"\n",
    "    Given array 'x_sorted' of coordinates and KNN-distances \n",
    "    (sorted in ascending order of KNN distance),\n",
    "    find coordinates of outliers with KNN-distance > threshold\n",
    "    and coordinates of normal points with KNN-distance <= threshold\n",
    "    \"\"\"\n",
    "    \n",
    "    # Start Edit\n",
    "    \n",
    "    \n",
    "    #print(\"Number of outliers = \", )\n",
    "    #print(\"Coordinates of outliers = \\n\", outliers)\n",
    "    # End Edit\n",
    "    \n",
    "    return(normal, outliers)"
   ]
  },
  {
   "cell_type": "code",
   "execution_count": null,
   "metadata": {},
   "outputs": [],
   "source": [
    "# Select outliers with KNN-distance > 1\n",
    "threshold = 1\n",
    "\n",
    "normal, outliers = KNN_outliers(X_ext_sorted, threshold)\n",
    "\n",
    "plot_outliers(normal,outliers)"
   ]
  },
  {
   "cell_type": "markdown",
   "metadata": {},
   "source": [
    "## 2.4 Optimal threshold $thr$"
   ]
  },
  {
   "cell_type": "code",
   "execution_count": null,
   "metadata": {
    "collapsed": true
   },
   "outputs": [],
   "source": [
    "# Use CV dataset\n",
    "\n",
    "K=5\n",
    "\n",
    "nbrs = NearestNeighbors(n_neighbors=K,algorithm='kd_tree').fit(X_cv)\n",
    "\n",
    "dist, _ = nbrs.kneighbors(X_cv,  n_neighbors = K+1, return_distance=True)\n",
    "dist_Kth = dist[:,-1] # distances to the Kth NN\n",
    "\n",
    "# Append kth-NN distance to point coordinates (3rd dimension)\n",
    "X_cv_ext = np.concatenate((X_cv, dist_Kth[:,np.newaxis]),axis=1)\n",
    "\n",
    "# Sort from smallest to largest kNN distance\n",
    "X_cv_ext_sorted = X_cv_ext[X_cv_ext[:,-1].argsort()]"
   ]
  },
  {
   "cell_type": "markdown",
   "metadata": {},
   "source": [
    "### <font color='magenta'>>>> Q6: complete function 'select_threshold' by defining the variables 'tp' (True Positives), 'fp' (False Positives) and 'fn' (False Negatives). [Same as you did for 'select_epsilon' in Q3] </font>"
   ]
  },
  {
   "cell_type": "code",
   "execution_count": null,
   "metadata": {
    "collapsed": true
   },
   "outputs": [],
   "source": [
    "def select_threshold(x_sorted, y_cv):\n",
    "    \n",
    "    best_threshold = 0\n",
    "    best_f1 = 0\n",
    "    f1 = 0\n",
    "    \n",
    "    stepsize = (x_sorted[:,-1].max() - x_sorted[:,-1].min()) / 1000\n",
    "\n",
    "    for threshold in np.arange(x_sorted[:,-1].min(),x_sorted[:,-1].max(),stepsize):\n",
    "        \n",
    "        preds = ( x_sorted[:,-1] > threshold ) \n",
    "\n",
    "        # Start Edit\n",
    "        # True Positives (predicted 1, actual 1)\n",
    "        #tp = \n",
    "        # False Positives (predicted 1, actual 0)\n",
    "        #fp = \n",
    "        # True Negatives (predicted 0, actual 1)\n",
    "        #fn = \n",
    "        # End Edit\n",
    "        \n",
    "        # Precision\n",
    "        if (tp + fp) != 0:\n",
    "            precision = tp / (tp + fp)\n",
    "        else:\n",
    "            precision = 0\n",
    "\n",
    "        # Recall\n",
    "        if (tp + fn) != 0:\n",
    "            recall = tp / (tp + fn)\n",
    "        else:\n",
    "            recall = 0\n",
    "\n",
    "        # F1-score\n",
    "        if (precision + recall) != 0:                \n",
    "            f1 = (2 * precision * recall) / (precision + recall)\n",
    "        else:\n",
    "            f1 = 0       \n",
    "        \n",
    "        if f1 > best_f1:\n",
    "            best_threshold = threshold            \n",
    "            best_f1 = f1\n",
    "         \n",
    "    return(best_threshold, best_f1)"
   ]
  },
  {
   "cell_type": "code",
   "execution_count": null,
   "metadata": {},
   "outputs": [],
   "source": [
    "optimal_threshold, f1score = select_threshold(X_cv_ext_sorted,Y_cv)\n",
    "print(\"optimal threshold=\", optimal_threshold)\n",
    "print(\"optimal f1-score =\", f1score)"
   ]
  },
  {
   "cell_type": "code",
   "execution_count": null,
   "metadata": {},
   "outputs": [],
   "source": [
    "# Select outliers with KNN-distance > optimal threshold\n",
    "threshold = optimal_threshold\n",
    "\n",
    "normal, outliers = KNN_outliers(X_ext_sorted, threshold)\n",
    "\n",
    "plot_outliers(normal,outliers)"
   ]
  }
 ],
 "metadata": {
  "kernelspec": {
   "display_name": "Python 3",
   "language": "python",
   "name": "python3"
  },
  "language_info": {
   "codemirror_mode": {
    "name": "ipython",
    "version": 3
   },
   "file_extension": ".py",
   "mimetype": "text/x-python",
   "name": "python",
   "nbconvert_exporter": "python",
   "pygments_lexer": "ipython3",
   "version": "3.6.1"
  }
 },
 "nbformat": 4,
 "nbformat_minor": 1
}
