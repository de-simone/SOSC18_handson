{
 "cells": [
  {
   "cell_type": "markdown",
   "metadata": {
    "slideshow": {
     "slide_type": "-"
    }
   },
   "source": [
    "***\n",
    "# <font color=blue>MACHINE LEARNING ESSENTIALS</font>\n",
    "# <font color=blue>Practice with Logistic Regression</font>\n",
    "<div style=\"text-align: right\"><font color=magenta>Andrea De Simone</font></div>\n",
    "***"
   ]
  },
  {
   "cell_type": "code",
   "execution_count": 1,
   "metadata": {
    "collapsed": false
   },
   "outputs": [
    {
     "name": "stdout",
     "output_type": "stream",
     "text": [
      "Hello World!\n"
     ]
    }
   ],
   "source": [
    "print(\"Hello World!\")"
   ]
  },
  {
   "cell_type": "code",
   "execution_count": 283,
   "metadata": {
    "collapsed": true,
    "scrolled": true
   },
   "outputs": [],
   "source": [
    "import numpy as np \n",
    "import pandas as pd \n",
    "import matplotlib.pyplot as plt\n",
    "%matplotlib inline\n",
    "import os \n",
    "\n",
    "from scipy import optimize as opt\n",
    "from sklearn.metrics import confusion_matrix\n",
    "from sklearn.metrics import accuracy_score, recall_score, precision_score\n",
    "\n",
    "#http://www.johnwittenauer.net/machine-learning-exercises-in-python-part-3/\n",
    "#https://beckernick.github.io/logistic-regression-from-scratch/\n",
    "#https://www.kaggle.com/anthonysegura/logistic-regression-from-scratch/code"
   ]
  },
  {
   "cell_type": "markdown",
   "metadata": {},
   "source": [
    "***\n",
    "## 1. Load Dataset 1"
   ]
  },
  {
   "cell_type": "code",
   "execution_count": 779,
   "metadata": {
    "collapsed": false
   },
   "outputs": [
    {
     "name": "stdout",
     "output_type": "stream",
     "text": [
      "[[34.62365962 78.02469282  0.        ]\n",
      " [30.28671077 43.89499752  0.        ]\n",
      " [35.84740877 72.90219803  0.        ]\n",
      " [60.18259939 86.3085521   1.        ]\n",
      " [79.03273605 75.34437644  1.        ]\n",
      " [45.08327748 56.31637178  0.        ]\n",
      " [61.10666454 96.51142588  1.        ]\n",
      " [75.02474557 46.55401354  1.        ]\n",
      " [76.0987867  87.42056972  1.        ]\n",
      " [84.43281996 43.53339331  1.        ]]\n",
      "(100, 3)\n"
     ]
    }
   ],
   "source": [
    "# Load data\n",
    "inputfile = os.getcwd() + '/Ng_ex2/ex2data1.txt'  \n",
    "data = np.loadtxt(inputfile, delimiter=',')\n",
    "print(data[:10])\n",
    "print(data.shape)"
   ]
  },
  {
   "cell_type": "code",
   "execution_count": 780,
   "metadata": {
    "collapsed": false
   },
   "outputs": [
    {
     "name": "stdout",
     "output_type": "stream",
     "text": [
      "(100, 2) (100, 1)\n"
     ]
    }
   ],
   "source": [
    "# Separate features (x) from labels (y)\n",
    "x=data[:,0:2]\n",
    "y=data[:,2]\n",
    "\n",
    "# Number of examples \n",
    "N = x.shape[0]\n",
    "# Dimensions of feature space\n",
    "D = x.shape[1]\n",
    "\n",
    "y = np.reshape(y,(N,1))   # re-shape y to column vector\n",
    "print(x.shape,y.shape)"
   ]
  },
  {
   "cell_type": "code",
   "execution_count": 781,
   "metadata": {
    "collapsed": false
   },
   "outputs": [
    {
     "name": "stdout",
     "output_type": "stream",
     "text": [
      "[[ 1.         30.28671077 43.89499752]\n",
      " [ 1.         35.84740877 72.90219803]\n",
      " [ 1.         60.18259939 86.3085521 ]\n",
      " [ 1.         79.03273605 75.34437644]\n",
      " [ 1.         45.08327748 56.31637178]\n",
      " [ 1.         61.10666454 96.51142588]\n",
      " [ 1.         75.02474557 46.55401354]\n",
      " [ 1.         76.0987867  87.42056972]\n",
      " [ 1.         84.43281996 43.53339331]]\n"
     ]
    }
   ],
   "source": [
    "# add column of ones in front of x\n",
    "ones = np.ones((N,1))\n",
    "X = np.concatenate((ones,x),axis=1)\n",
    "print(X[1:10])"
   ]
  },
  {
   "cell_type": "code",
   "execution_count": 782,
   "metadata": {
    "collapsed": false,
    "scrolled": false
   },
   "outputs": [
    {
     "data": {
      "image/png": "[encoded data removed]",
      "text/plain": [
       "<matplotlib.figure.Figure at 0x11e863940>"
      ]
     },
     "metadata": {},
     "output_type": "display_data"
    }
   ],
   "source": [
    "fig, ax = plt.subplots()  \n",
    "positives = np.ravel(y==1)\n",
    "negatives = np.ravel(y==0)\n",
    "ax.scatter(X[positives,1], X[positives,2], s=20, c='magenta', marker='o', label='Admitted')  \n",
    "ax.scatter(X[negatives,1], X[negatives,2], s=20, c='blue', marker='x', label='Not Admitted')  \n",
    "leg = ax.legend(frameon=True, loc='upper right')  \n",
    "ax.set_xlabel('Exam 1 Score')  \n",
    "ax.set_ylabel('Exam 2 Score')  \n",
    "plt.show()"
   ]
  },
  {
   "cell_type": "markdown",
   "metadata": {},
   "source": [
    "***\n",
    "## 2. Logistic Regression"
   ]
  },
  {
   "cell_type": "markdown",
   "metadata": {},
   "source": [
    "### 2.1 Function Definitions"
   ]
  },
  {
   "cell_type": "code",
   "execution_count": 7,
   "metadata": {
    "collapsed": true
   },
   "outputs": [],
   "source": [
    "# Sigmoid function\n",
    "def sigmoid(z):\n",
    "    return( 1.0 / (1 + np.exp(-z)) )"
   ]
  },
  {
   "cell_type": "code",
   "execution_count": 8,
   "metadata": {
    "collapsed": false
   },
   "outputs": [
    {
     "data": {
      "image/png": "[encoded data removed]",
      "text/plain": [
       "<matplotlib.figure.Figure at 0x11ddcf668>"
      ]
     },
     "metadata": {},
     "output_type": "display_data"
    }
   ],
   "source": [
    "# Plot sigmoid function\n",
    "xaxis = np.arange(-10, 10, step=.1)\n",
    "fig, ax = plt.subplots()  \n",
    "ax.plot(xaxis, sigmoid(xaxis), 'r')\n",
    "plt.show()"
   ]
  },
  {
   "cell_type": "code",
   "execution_count": 786,
   "metadata": {
    "collapsed": true
   },
   "outputs": [],
   "source": [
    "theta=np.zeros((D+1,1))"
   ]
  },
  {
   "cell_type": "markdown",
   "metadata": {},
   "source": [
    "$\\theta=\\left(\\begin{matrix} 0\\\\ 0 \\\\ 0\n",
    "\\end{matrix}\\right)$"
   ]
  },
  {
   "cell_type": "code",
   "execution_count": 509,
   "metadata": {
    "collapsed": false
   },
   "outputs": [
    {
     "name": "stdout",
     "output_type": "stream",
     "text": [
      "(100, 3) (100, 1) (3, 1)\n",
      "(100, 1)\n",
      "(1, 100)\n"
     ]
    }
   ],
   "source": [
    "print(X.shape,y.shape, theta.shape)\n",
    "print(np.dot(X,theta).shape)\n",
    "print(y.T.shape)"
   ]
  },
  {
   "cell_type": "code",
   "execution_count": 9,
   "metadata": {
    "collapsed": true
   },
   "outputs": [],
   "source": [
    "# Loss function\n",
    "def Loss(theta, X, y):  \n",
    "    \n",
    "    n = y.shape[0]\n",
    "    h = sigmoid(np.dot(X,theta))\n",
    "\n",
    "    loss = (1/float(n)) *  (-np.dot(y.T,np.log(h)) - np.dot((1 - y).T,(np.log(1 - h))))\n",
    "    \n",
    "    loss = np.ravel(loss)[0]\n",
    "    return( loss )"
   ]
  },
  {
   "cell_type": "code",
   "execution_count": 458,
   "metadata": {
    "collapsed": false
   },
   "outputs": [
    {
     "data": {
      "text/plain": [
       "0.6931471805599452"
      ]
     },
     "execution_count": 458,
     "metadata": {},
     "output_type": "execute_result"
    }
   ],
   "source": [
    "Loss(theta,X,y)"
   ]
  },
  {
   "cell_type": "code",
   "execution_count": 166,
   "metadata": {
    "collapsed": true
   },
   "outputs": [],
   "source": [
    "# Gradient of the Loss function\n",
    "def LossGradient(theta, X, y):\n",
    "    \n",
    "    n, d = X.shape\n",
    "    y = y.reshape((n, 1)) \n",
    "    theta = theta.reshape((d, 1)) \n",
    "    \n",
    "    h = sigmoid(np.dot(X,theta)) \n",
    " \n",
    "    grad = (1/float(n)) * np.dot(X.T, h-y)\n",
    "    \n",
    "    grad = np.ravel(grad)\n",
    "    return( grad )"
   ]
  },
  {
   "cell_type": "code",
   "execution_count": 457,
   "metadata": {
    "collapsed": false
   },
   "outputs": [
    {
     "data": {
      "text/plain": [
       "array([8.47457627e-03, 1.87880932e-02, 7.77711864e-05])"
      ]
     },
     "execution_count": 457,
     "metadata": {},
     "output_type": "execute_result"
    }
   ],
   "source": [
    "LossGradient(theta,X,y)"
   ]
  },
  {
   "cell_type": "markdown",
   "metadata": {},
   "source": [
    "### 2.2 Train Classifier"
   ]
  },
  {
   "cell_type": "code",
   "execution_count": 168,
   "metadata": {
    "collapsed": true
   },
   "outputs": [],
   "source": [
    "def GradientDescent(X,y, num_steps, alpha):\n",
    "    \n",
    "    n, d = X.shape\n",
    "    \n",
    "    weights = np.zeros((d,1))\n",
    "    epsilon=0.0\n",
    "    #weights = np.random.rand(d,1)*epsilon\n",
    "\n",
    "    for step in range(num_steps):\n",
    "\n",
    "        grad = LossGradient(weights,X,y).reshape((d,1))\n",
    "        weights -= alpha * grad\n",
    "        # Print Loss\n",
    "        #if step % 1000 == 0:\n",
    "        #    print(Loss(weights,X, y))\n",
    "    \n",
    "    return(weights)"
   ]
  },
  {
   "cell_type": "code",
   "execution_count": 169,
   "metadata": {
    "collapsed": false
   },
   "outputs": [
    {
     "name": "stdout",
     "output_type": "stream",
     "text": [
      "[[-0.3416504 ]\n",
      " [ 0.01280167]\n",
      " [ 0.00310968]]\n",
      "0.6064596992136189\n"
     ]
    }
   ],
   "source": [
    "theta_hat_GD = GradientDescent(X,y,10000,5e-4)\n",
    "print(theta_hat_GD)\n",
    "print(Loss(theta_hat_GD,X,y))"
   ]
  },
  {
   "cell_type": "code",
   "execution_count": 471,
   "metadata": {
    "collapsed": true
   },
   "outputs": [],
   "source": [
    "# Minimize loss function with scipy minimizer\n",
    "def MinimizeLoss(theta, X, y):\n",
    "     \n",
    "    result = opt.minimize(fun = Loss, x0 = theta, args = (X, y),\n",
    "                         method = 'TNC', jac = LossGradient)\n",
    "    return(result.x)\n"
   ]
  },
  {
   "cell_type": "code",
   "execution_count": 787,
   "metadata": {
    "collapsed": false,
    "scrolled": false
   },
   "outputs": [
    {
     "name": "stdout",
     "output_type": "stream",
     "text": [
      "[-25.16131867   0.20623159   0.20147149]\n",
      "0.2034977015894744\n"
     ]
    }
   ],
   "source": [
    "theta_hat = MinimizeLoss(theta,X,y)\n",
    "print(theta_hat)\n",
    "print(Loss(theta_hat, X, y))"
   ]
  },
  {
   "cell_type": "markdown",
   "metadata": {},
   "source": [
    "### 2.3 Predictions"
   ]
  },
  {
   "cell_type": "code",
   "execution_count": 473,
   "metadata": {
    "collapsed": true
   },
   "outputs": [],
   "source": [
    "# Predictions\n",
    "def predict(theta, X, threshold=0.5):  \n",
    "    probability = sigmoid(np.dot(X,theta.T))\n",
    "    prediction = [1 if x >= threshold else 0 for x in probability]\n",
    "    return(prediction)"
   ]
  },
  {
   "cell_type": "code",
   "execution_count": 474,
   "metadata": {
    "collapsed": false
   },
   "outputs": [
    {
     "data": {
      "text/plain": [
       "[0, 0, 0, 1, 1, 0, 1, 0, 1, 1]"
      ]
     },
     "execution_count": 474,
     "metadata": {},
     "output_type": "execute_result"
    }
   ],
   "source": [
    "predictions = predict(theta_hat, X, threshold=0.5)  \n",
    "predictions[:10]"
   ]
  },
  {
   "cell_type": "markdown",
   "metadata": {},
   "source": [
    "### 2.4 Performance Metrics"
   ]
  },
  {
   "cell_type": "code",
   "execution_count": 475,
   "metadata": {
    "collapsed": false
   },
   "outputs": [
    {
     "data": {
      "text/plain": [
       "(55, 34, 6, 5)"
      ]
     },
     "execution_count": 475,
     "metadata": {},
     "output_type": "execute_result"
    }
   ],
   "source": [
    "TP = np.sum( [ (pred==1 and true==1) for (pred,true) in zip(predictions,  np.ravel(y))] )\n",
    "TN = np.sum( [ (pred==0 and true==0) for (pred,true) in zip(predictions,  np.ravel(y))] )\n",
    "FP = np.sum( [ (pred==1 and true==0) for (pred,true) in zip(predictions,  np.ravel(y))] )\n",
    "FN = np.sum( [ (pred==0 and true==1) for (pred,true) in zip(predictions,  np.ravel(y))] )\n",
    "\n",
    "TP, TN, FP, FN"
   ]
  },
  {
   "cell_type": "code",
   "execution_count": 478,
   "metadata": {
    "collapsed": false
   },
   "outputs": [
    {
     "name": "stdout",
     "output_type": "stream",
     "text": [
      "accuracy  = 0.89\n",
      "precision = 0.90\n",
      "recall    = 0.92\n"
     ]
    }
   ],
   "source": [
    "accuracy = (TP+TN)/(TP+TN+FP+FN)\n",
    "precision = TP/(TP+FP)\n",
    "recall = TP/(TP+FN)\n",
    "\n",
    "print('accuracy  = {:.2f}'.format(accuracy))\n",
    "print('precision = {:.2f}'.format(precision))\n",
    "print('recall    = {:.2f}'.format(recall))"
   ]
  },
  {
   "cell_type": "markdown",
   "metadata": {},
   "source": [
    "### 2.5 Plot Decision Boundary"
   ]
  },
  {
   "cell_type": "code",
   "execution_count": 811,
   "metadata": {
    "collapsed": true
   },
   "outputs": [],
   "source": [
    "def PlotDecisionBoundary(XX,Y,theta):\n",
    "    fig, ax = plt.subplots()  \n",
    "\n",
    "    # plot examples\n",
    "    positives = np.ravel(Y==1)\n",
    "    negatives = np.ravel(Y==0)\n",
    "    ax.scatter(XX[positives,1], XX[positives,2], s=20, c='magenta', marker='o', label='y=1')  \n",
    "    ax.scatter(XX[negatives,1], XX[negatives,2], s=20, c='blue', marker='x', label='y=0')  \n",
    "    leg = ax.legend(frameon=True, loc='upper right')  \n",
    "    ax.set_xlabel('x1')  \n",
    "    ax.set_ylabel('x2')  \n",
    "    \n",
    "    # plot decision boundary (threshold=0.5)\n",
    "    h = .2  # step size in the mesh\n",
    "    x_min, x_max = XX[:, 1].min() - 0.5, XX[:, 1].max() + 0.5\n",
    "    y_min, y_max = XX[:, 2].min() - 0.5, XX[:, 2].max() + 0.5\n",
    "    xx, yy = np.meshgrid(np.arange(x_min, x_max, h),\n",
    "                         np.arange(y_min, y_max, h))\n",
    "    #ax.set_xlim(xx.min(), xx.max())\n",
    "    #ax.set_ylim(yy.min(), yy.max())\n",
    "    Xpoints = np.c_[np.ones(xx.ravel().shape[0]),xx.ravel(), yy.ravel()]    \n",
    "    Z = sigmoid(Xpoints.dot(theta))\n",
    "    Z = Z.reshape(xx.shape)\n",
    "    ax.contour(xx, yy, Z, levels=[0.5], colors='green')\n",
    "    \n",
    "    plt.show()"
   ]
  },
  {
   "cell_type": "code",
   "execution_count": 795,
   "metadata": {
    "collapsed": false,
    "scrolled": false
   },
   "outputs": [
    {
     "data": {
      "image/png": "[encoded data removed]",
      "text/plain": [
       "<matplotlib.figure.Figure at 0x11e559e48>"
      ]
     },
     "metadata": {},
     "output_type": "display_data"
    }
   ],
   "source": [
    "PlotDecisionBoundary(X,y,theta_hat)"
   ]
  },
  {
   "cell_type": "markdown",
   "metadata": {},
   "source": [
    "<br><br><br><br><br><br><br><br><br><br>"
   ]
  },
  {
   "cell_type": "markdown",
   "metadata": {},
   "source": [
    "***\n",
    "## 3. Regularized Logistic Regression"
   ]
  },
  {
   "cell_type": "markdown",
   "metadata": {},
   "source": [
    "### 3.1 Function Definitions"
   ]
  },
  {
   "cell_type": "code",
   "execution_count": 590,
   "metadata": {
    "collapsed": true
   },
   "outputs": [],
   "source": [
    "# Regularized Loss function\n",
    "def RegLoss(theta, X, y, reg_param = 0.1):\n",
    "    n = y.shape[0]\n",
    "    h = sigmoid(np.dot(X,theta))\n",
    "    reg = (reg_param/(2 * n)) * np.sum(theta**2)\n",
    "\n",
    "    loss = (1/float(n))*(-np.dot(y.T,np.log(h)) - np.dot((1 - y).T,(np.log(1 - h)))) + reg\n",
    "    loss = np.ravel(loss)[0]\n",
    "    return( loss )"
   ]
  },
  {
   "cell_type": "code",
   "execution_count": 616,
   "metadata": {
    "collapsed": true
   },
   "outputs": [],
   "source": [
    "theta_test=np.array([-2,0.02,0.02])"
   ]
  },
  {
   "cell_type": "code",
   "execution_count": 621,
   "metadata": {
    "collapsed": false
   },
   "outputs": [
    {
     "data": {
      "text/plain": [
       "0.5108165169169082"
      ]
     },
     "execution_count": 621,
     "metadata": {},
     "output_type": "execute_result"
    }
   ],
   "source": [
    "RegLoss(theta_test,X,y,reg_param=.1)"
   ]
  },
  {
   "cell_type": "code",
   "execution_count": 528,
   "metadata": {
    "collapsed": true
   },
   "outputs": [],
   "source": [
    "# Gradient of the regularized loss function\n",
    "def RegLossGradient(theta, X, y, reg_param = 0.1):\n",
    "    n, d = X.shape\n",
    "    y = y.reshape((n, 1)) \n",
    "    theta = theta.reshape((d, 1))\n",
    "\n",
    "    h = sigmoid(np.dot(X,theta)) \n",
    "    reg = reg_param * theta / float(n)\n",
    "    \n",
    "    grad = (1/float(n)) * np.dot(X.T, h-y) + reg\n",
    "    \n",
    "    return( grad )"
   ]
  },
  {
   "cell_type": "code",
   "execution_count": 622,
   "metadata": {
    "collapsed": false
   },
   "outputs": [
    {
     "data": {
      "text/plain": [
       "array([[ 0.04328245],\n",
       "       [-0.86157179],\n",
       "       [-0.18871485]])"
      ]
     },
     "execution_count": 622,
     "metadata": {},
     "output_type": "execute_result"
    }
   ],
   "source": [
    "RegLossGradient(theta_test, X, y, reg_param=0.1)"
   ]
  },
  {
   "cell_type": "markdown",
   "metadata": {},
   "source": [
    "### 3.2 Load Dataset 2"
   ]
  },
  {
   "cell_type": "code",
   "execution_count": 796,
   "metadata": {
    "collapsed": false
   },
   "outputs": [
    {
     "name": "stdout",
     "output_type": "stream",
     "text": [
      "[[ 0.051267  0.69956   1.      ]\n",
      " [-0.092742  0.68494   1.      ]\n",
      " [-0.21371   0.69225   1.      ]\n",
      " [-0.375     0.50219   1.      ]\n",
      " [-0.51325   0.46564   1.      ]\n",
      " [-0.52477   0.2098    1.      ]\n",
      " [-0.39804   0.034357  1.      ]\n",
      " [-0.30588  -0.19225   1.      ]\n",
      " [ 0.016705 -0.40424   1.      ]\n",
      " [ 0.13191  -0.51389   1.      ]]\n",
      "(118, 3)\n"
     ]
    }
   ],
   "source": [
    "# Load data\n",
    "inputfile = os.getcwd() + '/Ng_ex2/ex2data2.txt'  \n",
    "data = np.loadtxt(inputfile, delimiter=',')\n",
    "print(data[:10])\n",
    "print(data.shape)"
   ]
  },
  {
   "cell_type": "code",
   "execution_count": 797,
   "metadata": {
    "collapsed": false
   },
   "outputs": [
    {
     "name": "stdout",
     "output_type": "stream",
     "text": [
      "(118, 2) (118, 1)\n"
     ]
    }
   ],
   "source": [
    "# Separate features (x) from labels (y)\n",
    "x=data[:,0:2]\n",
    "y=data[:,2]\n",
    "\n",
    "# Number of examples \n",
    "N = x.shape[0]\n",
    "# Dimensions of feature space\n",
    "D = x.shape[1]\n",
    "\n",
    "y = np.reshape(y,(N,1))   # re-shape y to column vector\n",
    "print(x.shape,y.shape)"
   ]
  },
  {
   "cell_type": "code",
   "execution_count": 798,
   "metadata": {
    "collapsed": false
   },
   "outputs": [
    {
     "name": "stdout",
     "output_type": "stream",
     "text": [
      "[[ 1.       -0.092742  0.68494 ]\n",
      " [ 1.       -0.21371   0.69225 ]\n",
      " [ 1.       -0.375     0.50219 ]\n",
      " [ 1.       -0.51325   0.46564 ]\n",
      " [ 1.       -0.52477   0.2098  ]\n",
      " [ 1.       -0.39804   0.034357]\n",
      " [ 1.       -0.30588  -0.19225 ]\n",
      " [ 1.        0.016705 -0.40424 ]\n",
      " [ 1.        0.13191  -0.51389 ]]\n"
     ]
    }
   ],
   "source": [
    "# add column of ones in front of x\n",
    "ones = np.ones((N,1))\n",
    "X = np.concatenate((ones,x),axis=1)\n",
    "print(X[1:10])"
   ]
  },
  {
   "cell_type": "code",
   "execution_count": 799,
   "metadata": {
    "collapsed": false,
    "scrolled": false
   },
   "outputs": [
    {
     "data": {
      "image/png": "[encoded data removed]",
      "text/plain": [
       "<matplotlib.figure.Figure at 0x11e3a6b70>"
      ]
     },
     "metadata": {},
     "output_type": "display_data"
    }
   ],
   "source": [
    "fig, ax = plt.subplots()  \n",
    "positives = np.ravel(y==1)\n",
    "negatives = np.ravel(y==0)\n",
    "ax.scatter(X[positives,1], X[positives,2], s=20, c='magenta', marker='o', label='y=1')  \n",
    "ax.scatter(X[negatives,1], X[negatives,2], s=20, c='blue', marker='x', label='y=0')  \n",
    "leg = ax.legend(frameon=True, loc='upper right')  \n",
    "ax.set_xlabel('x1')  \n",
    "ax.set_ylabel('x2')  \n",
    "plt.show()"
   ]
  },
  {
   "cell_type": "markdown",
   "metadata": {},
   "source": [
    "### 3.3 Train Classifier"
   ]
  },
  {
   "cell_type": "code",
   "execution_count": 813,
   "metadata": {
    "collapsed": true
   },
   "outputs": [],
   "source": [
    "#### Minimize regularized loss function with scipy minimizer\n",
    "def MinimizeRegLoss(theta, X, y, reg_param=0.1):\n",
    "     \n",
    "    result = opt.minimize(fun = RegLoss, x0 = theta, args = (X, y, reg_param),\n",
    "                         method = 'TNC', jac = RegLossGradient)\n",
    "    return(result.x)"
   ]
  },
  {
   "cell_type": "code",
   "execution_count": 814,
   "metadata": {
    "collapsed": false,
    "scrolled": false
   },
   "outputs": [
    {
     "name": "stdout",
     "output_type": "stream",
     "text": [
      "[ 3.07184204  1.66811286  2.27330651 -7.13525496 -3.77194535 -6.74569588]\n",
      "0.43654971290277095\n"
     ]
    }
   ],
   "source": [
    "theta_hat = MinimizeRegLoss(theta,X,y, reg_param=.1)\n",
    "print(theta_hat)\n",
    "print(RegLoss(theta_hat, X, y))"
   ]
  },
  {
   "cell_type": "markdown",
   "metadata": {},
   "source": [
    "### 3.4 Predictions on Test Set"
   ]
  },
  {
   "cell_type": "code",
   "execution_count": 815,
   "metadata": {
    "collapsed": false
   },
   "outputs": [
    {
     "data": {
      "text/plain": [
       "[1, 1, 1, 1, 1, 1, 1, 1, 1, 1]"
      ]
     },
     "execution_count": 815,
     "metadata": {},
     "output_type": "execute_result"
    }
   ],
   "source": [
    "predictions = predict(theta_hat, X, threshold=0.5)  \n",
    "predictions[:10]"
   ]
  },
  {
   "cell_type": "markdown",
   "metadata": {},
   "source": [
    "### 3.5 Performance Metrics"
   ]
  },
  {
   "cell_type": "code",
   "execution_count": 816,
   "metadata": {
    "collapsed": false
   },
   "outputs": [
    {
     "data": {
      "text/plain": [
       "(49, 49, 11, 9)"
      ]
     },
     "execution_count": 816,
     "metadata": {},
     "output_type": "execute_result"
    }
   ],
   "source": [
    "TP = np.sum( [ (pred==1 and true==1) for (pred,true) in zip(predictions,  np.ravel(y))] )\n",
    "TN = np.sum( [ (pred==0 and true==0) for (pred,true) in zip(predictions,  np.ravel(y))] )\n",
    "FP = np.sum( [ (pred==1 and true==0) for (pred,true) in zip(predictions,  np.ravel(y))] )\n",
    "FN = np.sum( [ (pred==0 and true==1) for (pred,true) in zip(predictions,  np.ravel(y))] )\n",
    "\n",
    "TP, TN, FP, FN"
   ]
  },
  {
   "cell_type": "code",
   "execution_count": 817,
   "metadata": {
    "collapsed": false
   },
   "outputs": [
    {
     "name": "stdout",
     "output_type": "stream",
     "text": [
      "accuracy  = 0.83\n",
      "precision = 0.82\n",
      "recall    = 0.84\n"
     ]
    }
   ],
   "source": [
    "accuracy = (TP+TN)/(TP+TN+FP+FN)\n",
    "precision = TP/(TP+FP)\n",
    "recall = TP/(TP+FN)\n",
    "\n",
    "print('accuracy  = {:.2f}'.format(accuracy))\n",
    "print('precision = {:.2f}'.format(precision))\n",
    "print('recall    = {:.2f}'.format(recall))"
   ]
  },
  {
   "cell_type": "markdown",
   "metadata": {},
   "source": [
    "### 3.6 Plot Decision Boundary"
   ]
  },
  {
   "cell_type": "code",
   "execution_count": 818,
   "metadata": {
    "collapsed": false
   },
   "outputs": [
    {
     "data": {
      "text/plain": [
       "array([ 3.07184204,  1.66811286,  2.27330651, -7.13525496, -3.77194535,\n",
       "       -6.74569588])"
      ]
     },
     "execution_count": 818,
     "metadata": {},
     "output_type": "execute_result"
    }
   ],
   "source": [
    "theta_hat"
   ]
  },
  {
   "cell_type": "code",
   "execution_count": 819,
   "metadata": {
    "collapsed": false,
    "scrolled": false
   },
   "outputs": [
    {
     "ename": "ValueError",
     "evalue": "shapes (225,3) and (6,) not aligned: 3 (dim 1) != 6 (dim 0)",
     "output_type": "error",
     "traceback": [
      "\u001b[0;31m---------------------------------------------------------------------------\u001b[0m",
      "\u001b[0;31mValueError\u001b[0m                                Traceback (most recent call last)",
      "\u001b[0;32m<ipython-input-819-96ee2c44db96>\u001b[0m in \u001b[0;36m<module>\u001b[0;34m()\u001b[0m\n\u001b[0;32m----> 1\u001b[0;31m \u001b[0mPlotDecisionBoundary\u001b[0m\u001b[0;34m(\u001b[0m\u001b[0mX\u001b[0m\u001b[0;34m,\u001b[0m\u001b[0my\u001b[0m\u001b[0;34m,\u001b[0m\u001b[0mtheta_hat\u001b[0m\u001b[0;34m)\u001b[0m\u001b[0;34m\u001b[0m\u001b[0m\n\u001b[0m",
      "\u001b[0;32m<ipython-input-811-204a91df54c7>\u001b[0m in \u001b[0;36mPlotDecisionBoundary\u001b[0;34m(XX, Y, theta)\u001b[0m\n\u001b[1;32m     20\u001b[0m     \u001b[0;31m#ax.set_ylim(yy.min(), yy.max())\u001b[0m\u001b[0;34m\u001b[0m\u001b[0;34m\u001b[0m\u001b[0m\n\u001b[1;32m     21\u001b[0m     \u001b[0mXpoints\u001b[0m \u001b[0;34m=\u001b[0m \u001b[0mnp\u001b[0m\u001b[0;34m.\u001b[0m\u001b[0mc_\u001b[0m\u001b[0;34m[\u001b[0m\u001b[0mnp\u001b[0m\u001b[0;34m.\u001b[0m\u001b[0mones\u001b[0m\u001b[0;34m(\u001b[0m\u001b[0mxx\u001b[0m\u001b[0;34m.\u001b[0m\u001b[0mravel\u001b[0m\u001b[0;34m(\u001b[0m\u001b[0;34m)\u001b[0m\u001b[0;34m.\u001b[0m\u001b[0mshape\u001b[0m\u001b[0;34m[\u001b[0m\u001b[0;36m0\u001b[0m\u001b[0;34m]\u001b[0m\u001b[0;34m)\u001b[0m\u001b[0;34m,\u001b[0m\u001b[0mxx\u001b[0m\u001b[0;34m.\u001b[0m\u001b[0mravel\u001b[0m\u001b[0;34m(\u001b[0m\u001b[0;34m)\u001b[0m\u001b[0;34m,\u001b[0m \u001b[0myy\u001b[0m\u001b[0;34m.\u001b[0m\u001b[0mravel\u001b[0m\u001b[0;34m(\u001b[0m\u001b[0;34m)\u001b[0m\u001b[0;34m]\u001b[0m\u001b[0;34m\u001b[0m\u001b[0m\n\u001b[0;32m---> 22\u001b[0;31m     \u001b[0mZ\u001b[0m \u001b[0;34m=\u001b[0m \u001b[0msigmoid\u001b[0m\u001b[0;34m(\u001b[0m\u001b[0mXpoints\u001b[0m\u001b[0;34m.\u001b[0m\u001b[0mdot\u001b[0m\u001b[0;34m(\u001b[0m\u001b[0mtheta\u001b[0m\u001b[0;34m)\u001b[0m\u001b[0;34m)\u001b[0m\u001b[0;34m\u001b[0m\u001b[0m\n\u001b[0m\u001b[1;32m     23\u001b[0m     \u001b[0mZ\u001b[0m \u001b[0;34m=\u001b[0m \u001b[0mZ\u001b[0m\u001b[0;34m.\u001b[0m\u001b[0mreshape\u001b[0m\u001b[0;34m(\u001b[0m\u001b[0mxx\u001b[0m\u001b[0;34m.\u001b[0m\u001b[0mshape\u001b[0m\u001b[0;34m)\u001b[0m\u001b[0;34m\u001b[0m\u001b[0m\n\u001b[1;32m     24\u001b[0m     \u001b[0max\u001b[0m\u001b[0;34m.\u001b[0m\u001b[0mcontour\u001b[0m\u001b[0;34m(\u001b[0m\u001b[0mxx\u001b[0m\u001b[0;34m,\u001b[0m \u001b[0myy\u001b[0m\u001b[0;34m,\u001b[0m \u001b[0mZ\u001b[0m\u001b[0;34m,\u001b[0m \u001b[0mlevels\u001b[0m\u001b[0;34m=\u001b[0m\u001b[0;34m[\u001b[0m\u001b[0;36m0.5\u001b[0m\u001b[0;34m]\u001b[0m\u001b[0;34m,\u001b[0m \u001b[0mcolors\u001b[0m\u001b[0;34m=\u001b[0m\u001b[0;34m'green'\u001b[0m\u001b[0;34m)\u001b[0m\u001b[0;34m\u001b[0m\u001b[0m\n",
      "\u001b[0;31mValueError\u001b[0m: shapes (225,3) and (6,) not aligned: 3 (dim 1) != 6 (dim 0)"
     ]
    },
    {
     "data": {
      "image/png": "[encoded data removed]",
      "text/plain": [
       "<matplotlib.figure.Figure at 0x11e3905f8>"
      ]
     },
     "metadata": {},
     "output_type": "display_data"
    }
   ],
   "source": [
    "PlotDecisionBoundary(X,y,theta_hat)"
   ]
  },
  {
   "cell_type": "code",
   "execution_count": 822,
   "metadata": {
    "collapsed": false
   },
   "outputs": [
    {
     "name": "stdout",
     "output_type": "stream",
     "text": [
      "(225, 3)\n",
      "(225,)\n"
     ]
    },
    {
     "data": {
      "image/png": "[encoded data removed]",
      "text/plain": [
       "<matplotlib.figure.Figure at 0x11e8e9048>"
      ]
     },
     "metadata": {},
     "output_type": "display_data"
    }
   ],
   "source": [
    "fig, ax = plt.subplots()  \n",
    "\n",
    "# plot examples\n",
    "positives = np.ravel(y==1)\n",
    "negatives = np.ravel(y==0)\n",
    "ax.scatter(X[positives,1], X[positives,2], s=20, c='magenta', marker='o', label='y=1')  \n",
    "ax.scatter(X[negatives,1], X[negatives,2], s=20, c='blue', marker='x', label='y=0')  \n",
    "leg = ax.legend(frameon=True, loc='upper right')  \n",
    "ax.set_xlabel('x1')  \n",
    "ax.set_ylabel('x2')  \n",
    "\n",
    "\n",
    "# plot decision boundary (threshold=0.5)\n",
    "h = .2  # step size in the mesh\n",
    "x1_min, x1_max = X[:, 1].min() - 0.5, X[:, 1].max() + 0.5\n",
    "x2_min, x2_max = X[:, 2].min() - 0.5, X[:, 2].max() + 0.5\n",
    "x3_min, x3_max = X[:, 3].min() - 1, X[:, 3].max() + 1\n",
    "xx1, xx2 = np.meshgrid(np.arange(x1_min, x1_max, h),\n",
    "                            np.arange(x2_min, x2_max, h))\n",
    "        \n",
    "#ax.set_xlim(xx.min(), xx.max())\n",
    "#ax.set_ylim(yy.min(), yy.max())\n",
    "\n",
    "Xpoints = np.c_[np.ones(xx1.ravel().shape[0]), xx1.ravel(), xx2.ravel()] \n",
    "print(Xpoints.shape)\n",
    "Z = sigmoid(Xpoints.dot(theta_hat[:3]))\n",
    "print(Z.shape)\n",
    "Z = Z.reshape(xx1.shape)\n",
    "ax.contour(xx1, xx2, Z, levels=[0.5], colors='green')\n",
    "\n",
    "plt.show()"
   ]
  },
  {
   "cell_type": "code",
   "execution_count": 821,
   "metadata": {
    "collapsed": false
   },
   "outputs": [
    {
     "data": {
      "text/plain": [
       "6400"
      ]
     },
     "execution_count": 821,
     "metadata": {},
     "output_type": "execute_result"
    }
   ],
   "source": [
    "20*20*16"
   ]
  },
  {
   "cell_type": "code",
   "execution_count": 823,
   "metadata": {
    "collapsed": false
   },
   "outputs": [
    {
     "data": {
      "text/plain": [
       "array([[ 1.        ,  0.051267  ,  0.69956   ,  0.00262831,  0.03586434,\n",
       "         0.48938419],\n",
       "       [ 1.        , -0.092742  ,  0.68494   ,  0.00860108, -0.06352271,\n",
       "         0.4691428 ],\n",
       "       [ 1.        , -0.21371   ,  0.69225   ,  0.04567196, -0.14794075,\n",
       "         0.47921006],\n",
       "       [ 1.        , -0.375     ,  0.50219   ,  0.140625  , -0.18832125,\n",
       "         0.2521948 ],\n",
       "       [ 1.        , -0.51325   ,  0.46564   ,  0.26342556, -0.23898973,\n",
       "         0.21682061]])"
      ]
     },
     "execution_count": 823,
     "metadata": {},
     "output_type": "execute_result"
    }
   ],
   "source": [
    "X[:5]"
   ]
  },
  {
   "cell_type": "markdown",
   "metadata": {},
   "source": [
    "### 3.7 Create More Features"
   ]
  },
  {
   "cell_type": "markdown",
   "metadata": {},
   "source": [
    "$X\\to X=\\left(\n",
    "\\begin{matrix}\n",
    "1\\\\ x_1 \\\\ x_2\\\\ x_1^2\\\\ x_1 x_2 \\\\ x_2^2 \\\\ \n",
    "\\end{matrix}\n",
    "\\right)$"
   ]
  },
  {
   "cell_type": "code",
   "execution_count": 800,
   "metadata": {
    "collapsed": false
   },
   "outputs": [],
   "source": [
    "X11 = np.power(X[:,1],2).reshape(N,1)\n",
    "X12 = (X[:,1]*X[:,2]).reshape(N,1)\n",
    "X22 = np.power(X[:,2],2).reshape(N,1)\n",
    "X30 = np.power(X[:,1],3).reshape(N,1)\n",
    "\n",
    "Xnew = np.concatenate((X,X11,X12,X22),axis=1)\n",
    "X=Xnew"
   ]
  },
  {
   "cell_type": "code",
   "execution_count": 801,
   "metadata": {
    "collapsed": false
   },
   "outputs": [],
   "source": [
    "# Dimensions of feature space\n",
    "D = X.shape[1]\n",
    "theta=np.zeros((D,1))"
   ]
  },
  {
   "cell_type": "code",
   "execution_count": 713,
   "metadata": {
    "collapsed": false
   },
   "outputs": [],
   "source": []
  },
  {
   "cell_type": "code",
   "execution_count": null,
   "metadata": {
    "collapsed": true
   },
   "outputs": [],
   "source": []
  }
 ],
 "metadata": {
  "kernelspec": {
   "display_name": "Python 3",
   "language": "python",
   "name": "python3"
  },
  "language_info": {
   "codemirror_mode": {
    "name": "ipython",
    "version": 3
   },
   "file_extension": ".py",
   "mimetype": "text/x-python",
   "name": "python",
   "nbconvert_exporter": "python",
   "pygments_lexer": "ipython3",
   "version": "3.5.4"
  }
 },
 "nbformat": 4,
 "nbformat_minor": 1
}
