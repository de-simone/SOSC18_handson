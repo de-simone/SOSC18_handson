{
 "cells": [
  {
   "cell_type": "markdown",
   "metadata": {
    "slideshow": {
     "slide_type": "-"
    }
   },
   "source": [
    "***\n",
    "# <font color=blue>MACHINE LEARNING ESSENTIALS</font>\n",
    "# <font color=blue>Practice with Logistic Regression</font>\n",
    "# <font color=blue>(lecturer version)</font>\n",
    "<div style=\"text-align: right\"><font color=magenta>Andrea De Simone</font></div>\n",
    "***"
   ]
  },
  {
   "cell_type": "code",
   "execution_count": 93,
   "metadata": {},
   "outputs": [
    {
     "name": "stdout",
     "output_type": "stream",
     "text": [
      "Hello World!\n"
     ]
    }
   ],
   "source": [
    "print(\"Hello World!\")"
   ]
  },
  {
   "cell_type": "code",
   "execution_count": 1,
   "metadata": {
    "collapsed": true,
    "scrolled": true
   },
   "outputs": [],
   "source": [
    "import numpy as np \n",
    "import matplotlib.pyplot as plt\n",
    "%matplotlib inline\n",
    "from scipy import optimize as opt\n",
    "from scipy.special import binom as binomial\n",
    "\n",
    "#http://www.johnwittenauer.net/machine-learning-exercises-in-python-part-3/\n",
    "#https://beckernick.github.io/logistic-regression-from-scratch/\n",
    "#https://www.kaggle.com/anthonysegura/logistic-regression-from-scratch/code"
   ]
  },
  {
   "cell_type": "markdown",
   "metadata": {},
   "source": [
    "***\n",
    "## 1. Data pre-processing"
   ]
  },
  {
   "cell_type": "markdown",
   "metadata": {},
   "source": [
    "### 1.1 Load Dataset 1"
   ]
  },
  {
   "cell_type": "code",
   "execution_count": 2,
   "metadata": {},
   "outputs": [
    {
     "name": "stdout",
     "output_type": "stream",
     "text": [
      "[[ 34.62365962  78.02469282   0.        ]\n",
      " [ 30.28671077  43.89499752   0.        ]\n",
      " [ 35.84740877  72.90219803   0.        ]\n",
      " [ 60.18259939  86.3085521    1.        ]\n",
      " [ 79.03273605  75.34437644   1.        ]\n",
      " [ 45.08327748  56.31637178   0.        ]\n",
      " [ 61.10666454  96.51142588   1.        ]\n",
      " [ 75.02474557  46.55401354   1.        ]\n",
      " [ 76.0987867   87.42056972   1.        ]\n",
      " [ 84.43281996  43.53339331   1.        ]]\n",
      "(100, 3)\n"
     ]
    }
   ],
   "source": [
    "# Load data\n",
    "#import os\n",
    "#inputfile = os.getcwd() + '/dataset1.txt'  \n",
    "data1 = np.loadtxt('dataset1.csv', delimiter=',')\n",
    "print(data1[:10])\n",
    "print(data1.shape)"
   ]
  },
  {
   "cell_type": "code",
   "execution_count": 96,
   "metadata": {},
   "outputs": [
    {
     "name": "stdout",
     "output_type": "stream",
     "text": [
      "(100, 3)\n"
     ]
    }
   ],
   "source": [
    "print(data1.shape)"
   ]
  },
  {
   "cell_type": "code",
   "execution_count": 97,
   "metadata": {},
   "outputs": [
    {
     "name": "stdout",
     "output_type": "stream",
     "text": [
      "[[ 0.]\n",
      " [ 0.]\n",
      " [ 0.]\n",
      " [ 1.]\n",
      " [ 1.]\n",
      " [ 0.]\n",
      " [ 1.]\n",
      " [ 1.]\n",
      " [ 1.]\n",
      " [ 1.]]\n",
      "(100, 2) (100, 1)\n"
     ]
    }
   ],
   "source": [
    "# Separate features (x) from labels (y)\n",
    "x=data1[:,0:2]\n",
    "y=data1[:,2]\n",
    "\n",
    "# Number of examples, Dimensions of feature space\n",
    "N, D = x.shape\n",
    "\n",
    "y = np.reshape(y,(N,1))   # re-shape y to column vector\n",
    "print(y[:10])\n",
    "print(x.shape,y.shape)"
   ]
  },
  {
   "cell_type": "code",
   "execution_count": 98,
   "metadata": {},
   "outputs": [
    {
     "name": "stdout",
     "output_type": "stream",
     "text": [
      "N. of examples in class 0 = 40\n",
      "N. of examples in class 1 = 60\n"
     ]
    }
   ],
   "source": [
    "print(\"N. of examples in class 0 =\",np.sum(y==0))\n",
    "print(\"N. of examples in class 1 =\",np.sum(y==1))"
   ]
  },
  {
   "cell_type": "code",
   "execution_count": 99,
   "metadata": {},
   "outputs": [
    {
     "name": "stdout",
     "output_type": "stream",
     "text": [
      "[[  1.          34.62365962  78.02469282]\n",
      " [  1.          30.28671077  43.89499752]\n",
      " [  1.          35.84740877  72.90219803]\n",
      " [  1.          60.18259939  86.3085521 ]\n",
      " [  1.          79.03273605  75.34437644]\n",
      " [  1.          45.08327748  56.31637178]\n",
      " [  1.          61.10666454  96.51142588]\n",
      " [  1.          75.02474557  46.55401354]\n",
      " [  1.          76.0987867   87.42056972]\n",
      " [  1.          84.43281996  43.53339331]]\n"
     ]
    }
   ],
   "source": [
    "# add column of ones in front of x\n",
    "ones = np.ones((N,1))\n",
    "X = np.concatenate((ones,x),axis=1)\n",
    "print(X[:10])"
   ]
  },
  {
   "cell_type": "code",
   "execution_count": 100,
   "metadata": {
    "scrolled": false
   },
   "outputs": [
    {
     "data": {
      "image/png": "[encoded data removed]",
      "text/plain": [
       "<matplotlib.figure.Figure at 0x1511b4f5f8>"
      ]
     },
     "metadata": {},
     "output_type": "display_data"
    }
   ],
   "source": [
    "# Plot Data \n",
    "fig, ax = plt.subplots()  \n",
    "positives = np.ravel(y==1)\n",
    "negatives = np.ravel(y==0)\n",
    "ax.scatter(X[positives,1], X[positives,2], s=20, c='magenta', marker='o', label='Admitted')  \n",
    "ax.scatter(X[negatives,1], X[negatives,2], s=20, c='blue', marker='x', label='Not Admitted')  \n",
    "leg = ax.legend(frameon=True, loc='upper right')  \n",
    "ax.set_xlabel('Exam 1 Score')  \n",
    "ax.set_ylabel('Exam 2 Score')  \n",
    "plt.show()"
   ]
  },
  {
   "cell_type": "markdown",
   "metadata": {},
   "source": [
    "<br><br><br><br><br>"
   ]
  },
  {
   "cell_type": "markdown",
   "metadata": {},
   "source": [
    "***\n",
    "## 2. Logistic Regression"
   ]
  },
  {
   "cell_type": "markdown",
   "metadata": {},
   "source": [
    "### 2.1 Sigmoid Function"
   ]
  },
  {
   "cell_type": "code",
   "execution_count": 101,
   "metadata": {
    "collapsed": true
   },
   "outputs": [],
   "source": [
    "# Sigmoid function\n",
    "def sigmoid(z):\n",
    "    return( 1.0 / (1 + np.exp(-z)) )"
   ]
  },
  {
   "cell_type": "code",
   "execution_count": 102,
   "metadata": {},
   "outputs": [
    {
     "data": {
      "image/png": "[encoded data removed]",
      "text/plain": [
       "<matplotlib.figure.Figure at 0x15119df240>"
      ]
     },
     "metadata": {},
     "output_type": "display_data"
    }
   ],
   "source": [
    "# Plot sigmoid function\n",
    "xaxis = np.arange(-10, 10, step=.1)\n",
    "fig, ax = plt.subplots()  \n",
    "ax.plot(xaxis, sigmoid(xaxis), 'r')\n",
    "plt.show()"
   ]
  },
  {
   "cell_type": "markdown",
   "metadata": {},
   "source": [
    "### 2.2 Loss Function"
   ]
  },
  {
   "cell_type": "code",
   "execution_count": 103,
   "metadata": {},
   "outputs": [
    {
     "name": "stdout",
     "output_type": "stream",
     "text": [
      "[[ 0.]\n",
      " [ 0.]\n",
      " [ 0.]]\n"
     ]
    }
   ],
   "source": [
    "initial_theta=np.zeros((D+1,1))\n",
    "print(initial_theta)"
   ]
  },
  {
   "cell_type": "code",
   "execution_count": 104,
   "metadata": {},
   "outputs": [
    {
     "name": "stdout",
     "output_type": "stream",
     "text": [
      "(100, 3) (100, 1) (3, 1)\n",
      "(100, 1)\n",
      "(1, 100)\n"
     ]
    }
   ],
   "source": [
    "print(X.shape,y.shape, initial_theta.shape)\n",
    "print(np.dot(X,initial_theta).shape)\n",
    "print(y.T.shape)"
   ]
  },
  {
   "cell_type": "code",
   "execution_count": 105,
   "metadata": {
    "collapsed": true
   },
   "outputs": [],
   "source": [
    "# Loss function\n",
    "def Loss(theta, X, y):  \n",
    "    \n",
    "    n = y.shape[0]\n",
    "    h = sigmoid(np.dot(X,theta))\n",
    "\n",
    "    loss = (1/float(n)) *  (-np.dot(y.T,np.log(h)) - np.dot((1 - y).T,(np.log(1 - h))))\n",
    "    \n",
    "    loss = np.ravel(loss)[0]\n",
    "    return( loss )"
   ]
  },
  {
   "cell_type": "code",
   "execution_count": 106,
   "metadata": {},
   "outputs": [
    {
     "data": {
      "text/plain": [
       "0.69314718055994518"
      ]
     },
     "execution_count": 106,
     "metadata": {},
     "output_type": "execute_result"
    }
   ],
   "source": [
    "Loss(initial_theta,X,y)"
   ]
  },
  {
   "cell_type": "code",
   "execution_count": 107,
   "metadata": {
    "collapsed": true
   },
   "outputs": [],
   "source": [
    "# Gradient of the Loss function\n",
    "def LossGradient(theta, X, y):\n",
    "    \n",
    "    n, d = X.shape\n",
    "    y = y.reshape((n, 1)) \n",
    "    theta = theta.reshape((d, 1)) \n",
    "    \n",
    "    h = sigmoid(np.dot(X,theta)) \n",
    " \n",
    "    grad = (1/float(n)) * np.dot(X.T, h-y)\n",
    "    \n",
    "    grad = np.ravel(grad)\n",
    "    return( grad )"
   ]
  },
  {
   "cell_type": "code",
   "execution_count": 108,
   "metadata": {},
   "outputs": [
    {
     "data": {
      "text/plain": [
       "array([ -0.1       , -12.00921659, -11.26284221])"
      ]
     },
     "execution_count": 108,
     "metadata": {},
     "output_type": "execute_result"
    }
   ],
   "source": [
    "LossGradient(initial_theta,X,y)"
   ]
  },
  {
   "cell_type": "markdown",
   "metadata": {},
   "source": [
    "### 2.3 Train Classifier"
   ]
  },
  {
   "cell_type": "code",
   "execution_count": 109,
   "metadata": {
    "collapsed": true
   },
   "outputs": [],
   "source": [
    "def GradientDescent(X,y, num_steps, alpha):\n",
    "    \n",
    "    n, d = X.shape\n",
    "    \n",
    "    weights = np.zeros((d,1))\n",
    "    epsilon=0.0\n",
    "    #weights = np.random.rand(d,1)*epsilon\n",
    "\n",
    "    for step in range(num_steps):\n",
    "\n",
    "        grad = LossGradient(weights,X,y).reshape((d,1))\n",
    "        weights -= alpha * grad\n",
    "        # Print Loss\n",
    "        #if step % 1000 == 0:\n",
    "        #    print(Loss(weights,X, y))\n",
    "    \n",
    "    return(weights)"
   ]
  },
  {
   "cell_type": "code",
   "execution_count": 110,
   "metadata": {},
   "outputs": [
    {
     "name": "stdout",
     "output_type": "stream",
     "text": [
      "[[-0.3416504 ]\n",
      " [ 0.01280167]\n",
      " [ 0.00310968]]\n",
      "0.606459699214\n"
     ]
    }
   ],
   "source": [
    "theta_hat_GD = GradientDescent(X,y,10000,5e-4)\n",
    "print(theta_hat_GD)\n",
    "print(Loss(theta_hat_GD,X,y))"
   ]
  },
  {
   "cell_type": "markdown",
   "metadata": {},
   "source": [
    "<font color='red'>>>> Q1: Run Gradient Descent varying the number of iterations and the learning rate: What is the minimum value of the Loss function you can get?</font>"
   ]
  },
  {
   "cell_type": "code",
   "execution_count": 111,
   "metadata": {
    "collapsed": true
   },
   "outputs": [],
   "source": [
    "# Minimize loss function with scipy minimizer\n",
    "def MinimizeLoss(theta, X, y):\n",
    "     \n",
    "    result = opt.minimize(fun = Loss, x0 = theta, args = (X, y),\n",
    "                         method = 'TNC', jac = LossGradient)\n",
    "    print(result)\n",
    "    return(result.x)\n"
   ]
  },
  {
   "cell_type": "code",
   "execution_count": 112,
   "metadata": {
    "scrolled": false
   },
   "outputs": [
    {
     "name": "stdout",
     "output_type": "stream",
     "text": [
      "     fun: 0.20349770158947419\n",
      "     jac: array([  9.22909509e-09,   1.05007760e-07,   4.90380175e-07])\n",
      " message: 'Local minimum reached (|pg| ~= 0)'\n",
      "    nfev: 36\n",
      "     nit: 17\n",
      "  status: 0\n",
      " success: True\n",
      "       x: array([-25.1613187 ,   0.20623159,   0.20147149])\n"
     ]
    }
   ],
   "source": [
    "initial_theta = np.zeros((X.shape[1],1))\n",
    "theta_hat = MinimizeLoss(initial_theta,X,y)"
   ]
  },
  {
   "cell_type": "code",
   "execution_count": 113,
   "metadata": {},
   "outputs": [
    {
     "name": "stdout",
     "output_type": "stream",
     "text": [
      "theta =  [-25.1613187    0.20623159   0.20147149]\n",
      "Loss =  0.203497701589\n"
     ]
    }
   ],
   "source": [
    "print(\"theta = \", theta_hat)\n",
    "print(\"Loss = \", Loss(theta_hat, X, y))"
   ]
  },
  {
   "cell_type": "markdown",
   "metadata": {},
   "source": [
    "### 2.4 Predicted Labels"
   ]
  },
  {
   "cell_type": "code",
   "execution_count": 114,
   "metadata": {
    "collapsed": true
   },
   "outputs": [],
   "source": [
    "# Predictions\n",
    "def predict(theta, X, threshold=0.5):  \n",
    "    probability = sigmoid(np.dot(X,theta.T))\n",
    "    prediction = [1 if x >= threshold else 0 for x in probability]\n",
    "    return(prediction)"
   ]
  },
  {
   "cell_type": "code",
   "execution_count": 115,
   "metadata": {
    "scrolled": false
   },
   "outputs": [
    {
     "data": {
      "text/plain": [
       "[0, 0, 0, 1, 1, 0, 1, 0, 1, 1]"
      ]
     },
     "execution_count": 115,
     "metadata": {},
     "output_type": "execute_result"
    }
   ],
   "source": [
    "T = 0.5\n",
    "y_predicted = predict(theta_hat, X, threshold=T)  \n",
    "y_predicted[:10]"
   ]
  },
  {
   "cell_type": "markdown",
   "metadata": {},
   "source": [
    "### 2.5 Performance Metrics"
   ]
  },
  {
   "cell_type": "code",
   "execution_count": 25,
   "metadata": {},
   "outputs": [
    {
     "name": "stdout",
     "output_type": "stream",
     "text": [
      "Confusion Matrix:\n",
      "[55, 6]\n",
      "[5, 34]\n"
     ]
    }
   ],
   "source": [
    "TP = np.sum( [ (pred==1 and true==1) for (pred,true) in zip(y_predicted,  np.ravel(y))] )\n",
    "TN = np.sum( [ (pred==0 and true==0) for (pred,true) in zip(y_predicted,  np.ravel(y))] )\n",
    "FP = np.sum( [ (pred==1 and true==0) for (pred,true) in zip(y_predicted,  np.ravel(y))] )\n",
    "FN = np.sum( [ (pred==0 and true==1) for (pred,true) in zip(y_predicted,  np.ravel(y))] )\n",
    "\n",
    "print(\"Confusion Matrix:\")\n",
    "print([TP, FP]) \n",
    "print([FN, TN])"
   ]
  },
  {
   "cell_type": "markdown",
   "metadata": {},
   "source": [
    "<font color='red'>>>> Q2: Compute: Accuracy, Precision, Recall, F-score</font>"
   ]
  },
  {
   "cell_type": "code",
   "execution_count": 26,
   "metadata": {},
   "outputs": [
    {
     "name": "stdout",
     "output_type": "stream",
     "text": [
      "accuracy  = 0.89\n",
      "precision = 0.90\n",
      "recall    = 0.92\n",
      "F-score   = 0.91\n"
     ]
    }
   ],
   "source": [
    "accuracy = (TP+TN)/(TP+TN+FP+FN)\n",
    "precision = TP/(TP+FP)\n",
    "recall = TP/(TP+FN)\n",
    "Fscore = 2*precision*recall/(precision+recall)\n",
    "\n",
    "print('accuracy  = {:.2f}'.format(accuracy))\n",
    "print('precision = {:.2f}'.format(precision))\n",
    "print('recall    = {:.2f}'.format(recall))\n",
    "print('F-score   = {:.2f}'.format(Fscore))"
   ]
  },
  {
   "cell_type": "markdown",
   "metadata": {},
   "source": [
    "<font color='red'>>>> Q3: Change discrimination threshold to 0.3. What happens to Precision, Recall, F-score?</font>"
   ]
  },
  {
   "cell_type": "code",
   "execution_count": 27,
   "metadata": {},
   "outputs": [
    {
     "name": "stdout",
     "output_type": "stream",
     "text": [
      "Confusion Matrix:\n",
      "[59, 7]\n",
      "[1, 33]\n",
      "accuracy  = 0.92\n",
      "precision = 0.89\n",
      "recall    = 0.98\n",
      "F-score   = 0.94\n"
     ]
    }
   ],
   "source": [
    "T=0.3\n",
    "y_predicted = predict(theta_hat, X, threshold=T)   \n",
    "TP = np.sum( [ (pred==1 and true==1) for (pred,true) in zip(y_predicted,  np.ravel(y))] )\n",
    "TN = np.sum( [ (pred==0 and true==0) for (pred,true) in zip(y_predicted,  np.ravel(y))] )\n",
    "FP = np.sum( [ (pred==1 and true==0) for (pred,true) in zip(y_predicted,  np.ravel(y))] )\n",
    "FN = np.sum( [ (pred==0 and true==1) for (pred,true) in zip(y_predicted,  np.ravel(y))] )\n",
    "\n",
    "print(\"Confusion Matrix:\")\n",
    "print([TP, FP]) \n",
    "print([FN, TN])\n",
    "\n",
    "accuracy = (TP+TN)/(TP+TN+FP+FN)\n",
    "precision = TP/(TP+FP)\n",
    "recall = TP/(TP+FN)\n",
    "Fscore = 2*precision*recall/(precision+recall)\n",
    "\n",
    "print('accuracy  = {:.2f}'.format(accuracy))\n",
    "print('precision = {:.2f}'.format(precision))\n",
    "print('recall    = {:.2f}'.format(recall))\n",
    "print('F-score   = {:.2f}'.format(Fscore))"
   ]
  },
  {
   "cell_type": "markdown",
   "metadata": {},
   "source": [
    "<font color='red'>>>> Q4: Change discrimination threshold to 0.9. What happens to Precision, Recall, F-score?</font>"
   ]
  },
  {
   "cell_type": "code",
   "execution_count": 28,
   "metadata": {},
   "outputs": [
    {
     "name": "stdout",
     "output_type": "stream",
     "text": [
      "Confusion Matrix:\n",
      "[44, 1]\n",
      "[16, 39]\n",
      "accuracy  = 0.83\n",
      "precision = 0.98\n",
      "recall    = 0.73\n",
      "F-score   = 0.84\n"
     ]
    }
   ],
   "source": [
    "T=0.9\n",
    "y_predicted = predict(theta_hat, X, threshold=T)    \n",
    "TP = np.sum( [ (pred==1 and true==1) for (pred,true) in zip(y_predicted,  np.ravel(y))] )\n",
    "TN = np.sum( [ (pred==0 and true==0) for (pred,true) in zip(y_predicted,  np.ravel(y))] )\n",
    "FP = np.sum( [ (pred==1 and true==0) for (pred,true) in zip(y_predicted,  np.ravel(y))] )\n",
    "FN = np.sum( [ (pred==0 and true==1) for (pred,true) in zip(y_predicted,  np.ravel(y))] )\n",
    "\n",
    "print(\"Confusion Matrix:\")\n",
    "print([TP, FP]) \n",
    "print([FN, TN])\n",
    "\n",
    "accuracy = (TP+TN)/(TP+TN+FP+FN)\n",
    "precision = TP/(TP+FP)\n",
    "recall = TP/(TP+FN)\n",
    "Fscore = 2*precision*recall/(precision+recall)\n",
    "\n",
    "print('accuracy  = {:.2f}'.format(accuracy))\n",
    "print('precision = {:.2f}'.format(precision))\n",
    "print('recall    = {:.2f}'.format(recall))\n",
    "print('F-score   = {:.2f}'.format(Fscore))"
   ]
  },
  {
   "cell_type": "markdown",
   "metadata": {},
   "source": [
    "<font color='red'>>>> Q5: Record True Positive Rate and False Positive Rate for 5 different values of the threshold and plot the ROC curve</font>"
   ]
  },
  {
   "cell_type": "code",
   "execution_count": 29,
   "metadata": {
    "collapsed": true
   },
   "outputs": [],
   "source": [
    "def PlotROC(FPR_list, TPR_list):\n",
    "    fig, ax = plt.subplots()\n",
    "    plt.title(\"ROC curve\")\n",
    "    ax.plot(FPR_list,TPR_list, marker=\"x\", c=\"b\")\n",
    "    ax.plot(FPR_list,FPR_list, marker=\"\", c=\"black\",linestyle='dashed',alpha=0.5)\n",
    "    ax.tick_params(labelsize=12)\n",
    "    ax.set_xlabel(\"FPR\", fontsize=14)\n",
    "    ax.set_ylabel(\"TPR\",fontsize=14)\n",
    "    ax.set_xlim([-0.05,1.05])\n",
    "    ax.set_ylim([-0.05,1.05])\n",
    "    plt.show()"
   ]
  },
  {
   "cell_type": "code",
   "execution_count": 88,
   "metadata": {},
   "outputs": [
    {
     "data": {
      "image/png": "[encoded data removed]",
      "text/plain": [
       "<matplotlib.figure.Figure at 0x1519334e80>"
      ]
     },
     "metadata": {},
     "output_type": "display_data"
    }
   ],
   "source": [
    "TPR_list = []\n",
    "FPR_list = []\n",
    "\n",
    "#<<<\n",
    "for T in np.arange(0,1,0.05):\n",
    "    y_predicted = predict(theta_hat, X, threshold=T)  \n",
    "    TP = np.sum( [ (pred==1 and true==1) for (pred,true) in zip(y_predicted,  np.ravel(y))] )\n",
    "    TN = np.sum( [ (pred==0 and true==0) for (pred,true) in zip(y_predicted,  np.ravel(y))] )\n",
    "    FP = np.sum( [ (pred==1 and true==0) for (pred,true) in zip(y_predicted,  np.ravel(y))] )\n",
    "    FN = np.sum( [ (pred==0 and true==1) for (pred,true) in zip(y_predicted,  np.ravel(y))] )\n",
    "\n",
    "    TPR = TP/(TP+FN) # True Positive Rate (=recall)\n",
    "    FPR = FP/(FP+TN) # False Positive Rate \n",
    "    TPR_list.append(TPR)\n",
    "    FPR_list.append(FPR)\n",
    "#<<<\n",
    "\n",
    "PlotROC(FPR_list, TPR_list)"
   ]
  },
  {
   "cell_type": "markdown",
   "metadata": {},
   "source": [
    "### 2.6 Plot Decision Boundary"
   ]
  },
  {
   "cell_type": "code",
   "execution_count": 30,
   "metadata": {
    "collapsed": true
   },
   "outputs": [],
   "source": [
    "def PlotDecisionBoundary(XX,Y,theta, degree=2):\n",
    "    fig, ax = plt.subplots()  \n",
    "\n",
    "    # plot examples\n",
    "    positives = np.ravel(Y==1)\n",
    "    negatives = np.ravel(Y==0)\n",
    "    ax.scatter(XX[positives,1], XX[positives,2], s=20, c='magenta', marker='o', label='y=1')  \n",
    "    ax.scatter(XX[negatives,1], XX[negatives,2], s=20, c='blue', marker='x', label='y=0')  \n",
    "    leg = ax.legend(frameon=True, loc='upper right')  \n",
    "    ax.set_xlabel('x1')  \n",
    "    ax.set_ylabel('x2')  \n",
    "    \n",
    "    # plot decision boundary (threshold=0.5)\n",
    "    h = 0.01  # step size in the mesh\n",
    "    x_min, x_max = XX[:, 1].min() - 0.5, XX[:, 1].max() + 0.5\n",
    "    y_min, y_max = XX[:, 2].min() - 0.5, XX[:, 2].max() + 0.5\n",
    "    xx, yy = np.meshgrid(np.arange(x_min, x_max, h),\n",
    "                         np.arange(y_min, y_max, h))\n",
    "    #ax.set_xlim(xx.min(), xx.max())\n",
    "    #ax.set_ylim(yy.min(), yy.max())\n",
    "    Xpoints = np.c_[np.ones(xx.ravel().shape[0]),xx.ravel(), yy.ravel()] \n",
    "    \n",
    "    if theta_hat.shape[0] <= 3:\n",
    "        Z = sigmoid(Xpoints.dot(theta))\n",
    "    else:\n",
    "        if int(binomial(2+degree,degree)==theta.shape[0]):\n",
    "            Xpoints_ext = MapFeatures(Xpoints[:,1],Xpoints[:,2],degree)\n",
    "            Z = sigmoid(Xpoints_ext.dot(theta))\n",
    "        else:\n",
    "            print(\"Dimensions of theta and X do not match!\")\n",
    "            print(\"Decision boundary not plotted\")\n",
    "            return\n",
    "        \n",
    "    Z = Z.reshape(xx.shape)\n",
    "    ax.contour(xx, yy, Z, levels=[0.5], colors='green')\n",
    "    \n",
    "    plt.show()"
   ]
  },
  {
   "cell_type": "code",
   "execution_count": 31,
   "metadata": {
    "scrolled": false
   },
   "outputs": [
    {
     "data": {
      "image/png": "[encoded data removed]",
      "text/plain": [
       "<matplotlib.figure.Figure at 0x150f4e7320>"
      ]
     },
     "metadata": {},
     "output_type": "display_data"
    }
   ],
   "source": [
    "PlotDecisionBoundary(X,y,theta_hat)"
   ]
  },
  {
   "cell_type": "markdown",
   "metadata": {},
   "source": [
    "<br><br><br><br><br>"
   ]
  },
  {
   "cell_type": "markdown",
   "metadata": {},
   "source": [
    "***\n",
    "## 3. Regularized Logistic Regression"
   ]
  },
  {
   "cell_type": "markdown",
   "metadata": {},
   "source": [
    "### 3.1 Loss Function"
   ]
  },
  {
   "cell_type": "markdown",
   "metadata": {},
   "source": [
    "<font color='red'>>>> Q6: Complete function for Regularized Loss. <br>Evaluate it on 'theta_test', with regularization parameter = 0.1</font>"
   ]
  },
  {
   "cell_type": "code",
   "execution_count": 32,
   "metadata": {
    "collapsed": true
   },
   "outputs": [],
   "source": [
    "# Regularized Loss function\n",
    "def RegLoss(theta, X, y, reg_param):\n",
    "    n = y.shape[0]\n",
    "    h = sigmoid(np.dot(X,theta))\n",
    "    \n",
    "    #Start Edit...\n",
    "    theta_reduced = np.copy(theta)\n",
    "    theta_reduced[0] = 0\n",
    "    \n",
    "    reg = (reg_param/(2 * n)) * np.sum(theta_reduced**2) \n",
    "\n",
    "    loss = (1/float(n))*(-np.dot(y.T,np.log(h)) - np.dot((1 - y).T,(np.log(1 - h)))) + reg\n",
    "    # ... End Edit\n",
    "    \n",
    "    \n",
    "    loss = np.ravel(loss)[0]\n",
    "    return( loss )"
   ]
  },
  {
   "cell_type": "code",
   "execution_count": 33,
   "metadata": {
    "collapsed": true
   },
   "outputs": [],
   "source": [
    "theta_test=np.array([-2,0.02,0.02])"
   ]
  },
  {
   "cell_type": "code",
   "execution_count": 34,
   "metadata": {},
   "outputs": [
    {
     "data": {
      "text/plain": [
       "0.50881651691690821"
      ]
     },
     "execution_count": 34,
     "metadata": {},
     "output_type": "execute_result"
    }
   ],
   "source": [
    "RegLoss(theta_test,X,y, .1)"
   ]
  },
  {
   "cell_type": "markdown",
   "metadata": {},
   "source": [
    "<font color='red'>>>> Q7: Complete function for Regularized Loss Gradient. <br>Evaluate it on 'theta_test', with regularization parameter = 0.1</font>"
   ]
  },
  {
   "cell_type": "code",
   "execution_count": 35,
   "metadata": {
    "collapsed": true
   },
   "outputs": [],
   "source": [
    "# Gradient of the regularized loss function\n",
    "def RegLossGradient(theta, X, y, reg_param):\n",
    "    n, d = X.shape\n",
    "    y = y.reshape((n, 1)) \n",
    "    theta = theta.reshape((d, 1))\n",
    "    h = sigmoid(np.dot(X,theta)) \n",
    "    \n",
    "    # Start Edit...\n",
    "    theta_reduced = np.copy(theta)\n",
    "    theta_reduced[0] = 0\n",
    "    \n",
    "    reg = reg_param * theta_reduced / float(n)\n",
    "    \n",
    "    grad = (1/float(n)) * np.dot(X.T, h-y) + reg\n",
    "    # ... End Edit\n",
    "    return( grad )"
   ]
  },
  {
   "cell_type": "code",
   "execution_count": 36,
   "metadata": {},
   "outputs": [
    {
     "data": {
      "text/plain": [
       "array([[ 0.04528245],\n",
       "       [-0.86157179],\n",
       "       [-0.18871485]])"
      ]
     },
     "execution_count": 36,
     "metadata": {},
     "output_type": "execute_result"
    }
   ],
   "source": [
    "RegLossGradient(theta_test, X, y, 0.1)"
   ]
  },
  {
   "cell_type": "markdown",
   "metadata": {},
   "source": [
    "### 3.2 Load Dataset 2"
   ]
  },
  {
   "cell_type": "code",
   "execution_count": 3,
   "metadata": {},
   "outputs": [
    {
     "name": "stdout",
     "output_type": "stream",
     "text": [
      "[[ 0.051267  0.69956   1.      ]\n",
      " [-0.092742  0.68494   1.      ]\n",
      " [-0.21371   0.69225   1.      ]\n",
      " [-0.375     0.50219   1.      ]\n",
      " [-0.51325   0.46564   1.      ]\n",
      " [-0.52477   0.2098    1.      ]\n",
      " [-0.39804   0.034357  1.      ]\n",
      " [-0.30588  -0.19225   1.      ]\n",
      " [ 0.016705 -0.40424   1.      ]\n",
      " [ 0.13191  -0.51389   1.      ]]\n"
     ]
    }
   ],
   "source": [
    "# Load data\n",
    "#inputfile = os.getcwd() + '/dataset2.txt'  \n",
    "data2 = np.loadtxt('dataset2.csv', delimiter=',')\n",
    "print(data2[:10])"
   ]
  },
  {
   "cell_type": "code",
   "execution_count": 38,
   "metadata": {},
   "outputs": [
    {
     "name": "stdout",
     "output_type": "stream",
     "text": [
      "(118, 3)\n"
     ]
    }
   ],
   "source": [
    "print(data2.shape)"
   ]
  },
  {
   "cell_type": "code",
   "execution_count": 39,
   "metadata": {},
   "outputs": [
    {
     "name": "stdout",
     "output_type": "stream",
     "text": [
      "[[ 1.]\n",
      " [ 1.]\n",
      " [ 1.]\n",
      " [ 1.]\n",
      " [ 1.]\n",
      " [ 1.]\n",
      " [ 1.]\n",
      " [ 1.]\n",
      " [ 1.]\n",
      " [ 1.]]\n",
      "(118, 2) (118, 1)\n"
     ]
    }
   ],
   "source": [
    "# Separate features (x) from labels (y)\n",
    "x=data2[:,0:2]\n",
    "y=data2[:,2]\n",
    "\n",
    "# Number of examples, Dimensions of feature space\n",
    "N, D = x.shape\n",
    "\n",
    "y = np.reshape(y,(N,1))   # re-shape y to column vector\n",
    "print(y[:10])\n",
    "print(x.shape,y.shape)"
   ]
  },
  {
   "cell_type": "code",
   "execution_count": 40,
   "metadata": {},
   "outputs": [
    {
     "name": "stdout",
     "output_type": "stream",
     "text": [
      "N. of examples in class 0 = 60\n",
      "N. of examples in class 1 = 58\n"
     ]
    }
   ],
   "source": [
    "print(\"N. of examples in class 0 =\",np.sum(y==0))\n",
    "print(\"N. of examples in class 1 =\",np.sum(y==1))"
   ]
  },
  {
   "cell_type": "code",
   "execution_count": 41,
   "metadata": {},
   "outputs": [
    {
     "name": "stdout",
     "output_type": "stream",
     "text": [
      "[[ 1.        0.051267  0.69956 ]\n",
      " [ 1.       -0.092742  0.68494 ]\n",
      " [ 1.       -0.21371   0.69225 ]\n",
      " [ 1.       -0.375     0.50219 ]\n",
      " [ 1.       -0.51325   0.46564 ]\n",
      " [ 1.       -0.52477   0.2098  ]\n",
      " [ 1.       -0.39804   0.034357]\n",
      " [ 1.       -0.30588  -0.19225 ]\n",
      " [ 1.        0.016705 -0.40424 ]\n",
      " [ 1.        0.13191  -0.51389 ]]\n"
     ]
    }
   ],
   "source": [
    "# add column of ones in front of x\n",
    "ones = np.ones((N,1))\n",
    "X = np.concatenate((ones,x),axis=1)\n",
    "print(X[:10])"
   ]
  },
  {
   "cell_type": "code",
   "execution_count": 42,
   "metadata": {
    "scrolled": false
   },
   "outputs": [
    {
     "data": {
      "image/png": "[encoded data removed]",
      "text/plain": [
       "<matplotlib.figure.Figure at 0x150f4e7be0>"
      ]
     },
     "metadata": {},
     "output_type": "display_data"
    }
   ],
   "source": [
    "# Plot Data \n",
    "fig, ax = plt.subplots()  \n",
    "positives = np.ravel(y==1)\n",
    "negatives = np.ravel(y==0)\n",
    "ax.scatter(X[positives,1], X[positives,2], s=20, c='magenta', marker='o', label='y=1')  \n",
    "ax.scatter(X[negatives,1], X[negatives,2], s=20, c='blue', marker='x', label='y=0')  \n",
    "leg = ax.legend(frameon=True, loc='upper right')  \n",
    "ax.set_xlabel('x1')  \n",
    "ax.set_ylabel('x2')  \n",
    "plt.show()"
   ]
  },
  {
   "cell_type": "markdown",
   "metadata": {},
   "source": [
    "### 3.3 Train Classifier"
   ]
  },
  {
   "cell_type": "code",
   "execution_count": 43,
   "metadata": {
    "collapsed": true
   },
   "outputs": [],
   "source": [
    "#### Minimize regularized loss function with scipy minimizer\n",
    "def MinimizeRegLoss(theta, X, y, reg_param):\n",
    "     \n",
    "    result = opt.minimize(fun = RegLoss, x0 = theta, args = (X, y, reg_param),\n",
    "                         method = 'TNC', jac = RegLossGradient)\n",
    "    return(result.x)"
   ]
  },
  {
   "cell_type": "code",
   "execution_count": 44,
   "metadata": {
    "scrolled": false
   },
   "outputs": [
    {
     "name": "stdout",
     "output_type": "stream",
     "text": [
      "theta =  [-0.01455386 -0.29925979 -0.01733575]\n",
      "Loss =  0.69027973725\n"
     ]
    }
   ],
   "source": [
    "initial_theta = np.zeros((X.shape[1],1))\n",
    "theta_hat = MinimizeRegLoss(initial_theta,X,y, 0.1)\n",
    "print(\"theta = \", theta_hat)\n",
    "print(\"Loss = \", RegLoss(theta_hat, X, y, 0.1))"
   ]
  },
  {
   "cell_type": "markdown",
   "metadata": {},
   "source": [
    "### 3.4 Predicted Labels"
   ]
  },
  {
   "cell_type": "code",
   "execution_count": 45,
   "metadata": {},
   "outputs": [
    {
     "data": {
      "text/plain": [
       "[0, 1, 1, 1, 1, 1, 1, 1, 0, 0]"
      ]
     },
     "execution_count": 45,
     "metadata": {},
     "output_type": "execute_result"
    }
   ],
   "source": [
    "y_predicted = predict(theta_hat, X, threshold=0.5)  \n",
    "y_predicted[:10]"
   ]
  },
  {
   "cell_type": "markdown",
   "metadata": {},
   "source": [
    "### 3.5 Performance Metrics"
   ]
  },
  {
   "cell_type": "code",
   "execution_count": 46,
   "metadata": {},
   "outputs": [
    {
     "name": "stdout",
     "output_type": "stream",
     "text": [
      "Confusion Matrix:\n",
      "[30, 25]\n",
      "[28, 35]\n"
     ]
    }
   ],
   "source": [
    "TP = np.sum( [ (pred==1 and true==1) for (pred,true) in zip(y_predicted,  np.ravel(y))] )\n",
    "TN = np.sum( [ (pred==0 and true==0) for (pred,true) in zip(y_predicted,  np.ravel(y))] )\n",
    "FP = np.sum( [ (pred==1 and true==0) for (pred,true) in zip(y_predicted,  np.ravel(y))] )\n",
    "FN = np.sum( [ (pred==0 and true==1) for (pred,true) in zip(y_predicted,  np.ravel(y))] )\n",
    "\n",
    "print(\"Confusion Matrix:\")\n",
    "print([TP, FP]) \n",
    "print([FN, TN])"
   ]
  },
  {
   "cell_type": "code",
   "execution_count": 47,
   "metadata": {},
   "outputs": [
    {
     "name": "stdout",
     "output_type": "stream",
     "text": [
      "accuracy  = 0.55\n",
      "precision = 0.55\n",
      "recall    = 0.52\n",
      "F-score   = 0.84\n"
     ]
    }
   ],
   "source": [
    "accuracy = (TP+TN)/(TP+TN+FP+FN)\n",
    "precision = TP/(TP+FP)\n",
    "recall = TP/(TP+FN)\n",
    "\n",
    "print('accuracy  = {:.2f}'.format(accuracy))\n",
    "print('precision = {:.2f}'.format(precision))\n",
    "print('recall    = {:.2f}'.format(recall))\n",
    "print('F-score   = {:.2f}'.format(Fscore))"
   ]
  },
  {
   "cell_type": "markdown",
   "metadata": {},
   "source": [
    "### 3.6 Plot Decision Boundary"
   ]
  },
  {
   "cell_type": "code",
   "execution_count": 48,
   "metadata": {
    "scrolled": true
   },
   "outputs": [
    {
     "data": {
      "image/png": "[encoded data removed]",
      "text/plain": [
       "<matplotlib.figure.Figure at 0x150f533710>"
      ]
     },
     "metadata": {},
     "output_type": "display_data"
    }
   ],
   "source": [
    "PlotDecisionBoundary(X,y,theta_hat)"
   ]
  },
  {
   "cell_type": "markdown",
   "metadata": {},
   "source": [
    "### 3.7 Add More Features"
   ]
  },
  {
   "cell_type": "markdown",
   "metadata": {},
   "source": [
    "$X\\to X_{\\rm ext}=\\left(\n",
    "\\begin{matrix}\n",
    "1, x_1 , x_2, x_1^2, x_1 x_2, x_2^2, \\ldots, x_1^5 x_2, x_1 x^5, x_1^6, x_2^6\n",
    "\\end{matrix}\n",
    "\\right)^T$"
   ]
  },
  {
   "cell_type": "code",
   "execution_count": 49,
   "metadata": {
    "collapsed": true
   },
   "outputs": [],
   "source": [
    "def MapFeatures(X1, X2, max_deg):\n",
    "    \"\"\"\n",
    "    Map features X1,X2 into all monomials of degree <= max_deg\n",
    "    \"\"\"\n",
    "    ncols = binomial(2+max_deg,max_deg) \n",
    "    result = np.ones( (X1.shape[0],int(ncols)) )\n",
    "\n",
    "    count=1\n",
    "    for i in range(1,max_deg+1):\n",
    "        for j in range(0,i+1):            \n",
    "            \n",
    "            Xnew = np.power(X1, i-j) * np.power(X2, j)\n",
    "            result[:,count]=Xnew\n",
    "            count += 1\n",
    "            #result = np.concatenate((result,Xnew),axis=1)\n",
    "            \n",
    "    return(result)"
   ]
  },
  {
   "cell_type": "code",
   "execution_count": 50,
   "metadata": {
    "scrolled": false
   },
   "outputs": [
    {
     "data": {
      "text/plain": [
       "(118, 28)"
      ]
     },
     "execution_count": 50,
     "metadata": {},
     "output_type": "execute_result"
    }
   ],
   "source": [
    "degree = 6\n",
    "X_ext = MapFeatures(X[:,1],X[:,2], degree)\n",
    "X_ext.shape"
   ]
  },
  {
   "cell_type": "code",
   "execution_count": 51,
   "metadata": {},
   "outputs": [
    {
     "name": "stdout",
     "output_type": "stream",
     "text": [
      "Loss =  0.39459413902\n"
     ]
    },
    {
     "data": {
      "image/png": "[encoded data removed]",
      "text/plain": [
       "<matplotlib.figure.Figure at 0x1520e7f2b0>"
      ]
     },
     "metadata": {},
     "output_type": "display_data"
    }
   ],
   "source": [
    "regularization_parameter = 0.1\n",
    "\n",
    "X_ext = MapFeatures(X[:,1],X[:,2],degree)\n",
    "initial_theta = np.zeros((X_ext.shape[1],1))\n",
    "\n",
    "theta_hat = MinimizeRegLoss(initial_theta,X_ext,y, regularization_parameter)\n",
    "\n",
    "print(\"Loss = \",RegLoss(theta_hat, X_ext, y, regularization_parameter))\n",
    "PlotDecisionBoundary(X,y,theta_hat, degree=6)"
   ]
  },
  {
   "cell_type": "markdown",
   "metadata": {},
   "source": [
    "<font color='red'>>>> Q8: Train the classifier with extended features, for regularization parameter=0 and for regularization parameter = 100. Plot the corresponding decision boundaries. Can you interpret the results?</font>"
   ]
  },
  {
   "cell_type": "code",
   "execution_count": 52,
   "metadata": {},
   "outputs": [
    {
     "name": "stdout",
     "output_type": "stream",
     "text": [
      "Loss =  0.256252857501\n"
     ]
    },
    {
     "name": "stderr",
     "output_type": "stream",
     "text": [
      "/Users/andrea/anaconda/lib/python3.6/site-packages/ipykernel_launcher.py:3: RuntimeWarning: overflow encountered in exp\n",
      "  This is separate from the ipykernel package so we can avoid doing imports until\n"
     ]
    },
    {
     "data": {
      "image/png": "[encoded data removed]",
      "text/plain": [
       "<matplotlib.figure.Figure at 0x150f4d5eb8>"
      ]
     },
     "metadata": {},
     "output_type": "display_data"
    }
   ],
   "source": [
    "regularization_parameter = 0.0\n",
    "\n",
    "X_ext = MapFeatures(X[:,1],X[:,2],degree)\n",
    "initial_theta = np.zeros((X_ext.shape[1],1))\n",
    "\n",
    "theta_hat = MinimizeRegLoss(initial_theta,X_ext,y, regularization_parameter)\n",
    "\n",
    "print(\"Loss = \",RegLoss(theta_hat, X_ext, y, regularization_parameter))\n",
    "PlotDecisionBoundary(X,y,theta_hat, degree=6)"
   ]
  },
  {
   "cell_type": "code",
   "execution_count": 53,
   "metadata": {},
   "outputs": [
    {
     "name": "stdout",
     "output_type": "stream",
     "text": [
      "Loss =  0.686483833873\n"
     ]
    },
    {
     "data": {
      "image/png": "[encoded data removed]",
      "text/plain": [
       "<matplotlib.figure.Figure at 0x150f59ef98>"
      ]
     },
     "metadata": {},
     "output_type": "display_data"
    }
   ],
   "source": [
    "regularization_parameter = 100\n",
    "\n",
    "X_ext = MapFeatures(X[:,1],X[:,2],degree)\n",
    "initial_theta = np.zeros((X_ext.shape[1],1))\n",
    "\n",
    "theta_hat = MinimizeRegLoss(initial_theta,X_ext,y, regularization_parameter)\n",
    "\n",
    "print(\"Loss = \",RegLoss(theta_hat, X_ext, y, regularization_parameter))\n",
    "PlotDecisionBoundary(X,y,theta_hat, degree=6)"
   ]
  },
  {
   "cell_type": "markdown",
   "metadata": {},
   "source": [
    "<br><br><br><br><br>"
   ]
  },
  {
   "cell_type": "markdown",
   "metadata": {},
   "source": [
    "***\n",
    "## 4. Comparison with scikit-learn"
   ]
  },
  {
   "cell_type": "code",
   "execution_count": 54,
   "metadata": {
    "collapsed": true
   },
   "outputs": [],
   "source": [
    "from sklearn.linear_model import LogisticRegression"
   ]
  },
  {
   "cell_type": "code",
   "execution_count": 55,
   "metadata": {
    "collapsed": true
   },
   "outputs": [],
   "source": [
    "# Train with original features\n",
    "regularization_parameter = 0.1\n",
    "\n",
    "initial_theta = np.zeros((X.shape[1],1))\n",
    "theta_hat = MinimizeRegLoss(initial_theta,X,y, regularization_parameter)\n",
    "\n",
    "classifier = LogisticRegression(fit_intercept=False, \n",
    "                                C = 1/regularization_parameter, \n",
    "                                solver='newton-cg')\n",
    "classifier.fit(X, np.ravel(y));"
   ]
  },
  {
   "cell_type": "code",
   "execution_count": 56,
   "metadata": {},
   "outputs": [
    {
     "name": "stdout",
     "output_type": "stream",
     "text": [
      "[[-0.01450109 -0.29922852 -0.01737759]]\n",
      "[-0.01455386 -0.29925979 -0.01733575]\n",
      "Loss (ours)    =  0.69027973725\n",
      "Loss (sklearn) =  0.690279737527\n"
     ]
    }
   ],
   "source": [
    "print(classifier.coef_)\n",
    "print(theta_hat)\n",
    "print(\"Loss (ours)    = \", RegLoss(theta_hat, X, y, regularization_parameter))\n",
    "print(\"Loss (sklearn) = \", RegLoss(classifier.coef_.T, X, y, regularization_parameter))"
   ]
  },
  {
   "cell_type": "code",
   "execution_count": 57,
   "metadata": {
    "collapsed": true
   },
   "outputs": [],
   "source": [
    "# Train with extended features\n",
    "regularization_parameter = 0.1\n",
    "\n",
    "X_ext = MapFeatures(X[:,1],X[:,2],degree)\n",
    "initial_theta = np.zeros((X_ext.shape[1],1))\n",
    "theta_hat = MinimizeRegLoss(initial_theta,X_ext,y, regularization_parameter)\n",
    "\n",
    "classifier = LogisticRegression(fit_intercept=False, \n",
    "                                C = 1/regularization_parameter, \n",
    "                                solver='newton-cg')\n",
    "classifier.fit(X_ext, np.ravel(y));"
   ]
  },
  {
   "cell_type": "code",
   "execution_count": 58,
   "metadata": {},
   "outputs": [
    {
     "name": "stdout",
     "output_type": "stream",
     "text": [
      "[[ 2.65841327  1.76425412  2.91394761 -4.03352252 -3.34760691 -4.01753795\n",
      "   0.76788629 -1.08681972 -0.47256648 -0.4786316  -3.27618746  0.54688356\n",
      "  -1.80128904 -1.17953402 -2.79114691 -0.62132738 -0.47172234  0.61462345\n",
      "  -1.1468912  -1.2087045  -0.10631289 -2.66282174  0.45816751 -0.761326\n",
      "   0.43773798 -1.17488737 -0.93815025 -1.19975896]]\n",
      "[ 2.75389319  1.80721227  2.95658114 -4.21443476 -3.37939081 -4.22545076\n",
      "  0.74561366 -1.07832735 -0.47233081 -0.49891629 -3.26576583  0.52786426\n",
      " -1.76302771 -1.20787712 -2.77792029 -0.62181685 -0.47037713  0.62372953\n",
      " -1.13695422 -1.21221887 -0.09177493 -2.63128946  0.4453866  -0.73615712\n",
      "  0.42675298 -1.14905421 -0.95804992 -1.14889107]\n",
      "\n",
      "Loss (ours)    =  0.39459413902\n",
      "Loss (sklearn) =  0.394701297066\n"
     ]
    }
   ],
   "source": [
    "print(classifier.coef_)\n",
    "print(theta_hat)\n",
    "print(\"\")\n",
    "print(\"Loss (ours)    = \", RegLoss(theta_hat, X_ext, y, regularization_parameter))\n",
    "print(\"Loss (sklearn) = \", RegLoss(classifier.coef_.T, X_ext, y, regularization_parameter))"
   ]
  },
  {
   "cell_type": "markdown",
   "metadata": {},
   "source": [
    "<br><br><br><br><br>"
   ]
  },
  {
   "cell_type": "markdown",
   "metadata": {},
   "source": [
    "***\n",
    "## 5. Multi-class Logistic Regression"
   ]
  },
  {
   "cell_type": "markdown",
   "metadata": {},
   "source": [
    "### 5.1 Load Dataset 3. \n",
    "#### This is subset of the MNIST (Modified National Institute of Standards and Technology) dataset of handwritten digits"
   ]
  },
  {
   "cell_type": "markdown",
   "metadata": {},
   "source": [
    "<img src=\"digits.png\">"
   ]
  },
  {
   "cell_type": "code",
   "execution_count": 4,
   "metadata": {},
   "outputs": [
    {
     "name": "stdout",
     "output_type": "stream",
     "text": [
      "[[ 0.  0.  0. ...,  0.  0.  0.]\n",
      " [ 0.  0.  0. ...,  0.  0.  0.]\n",
      " [ 0.  0.  0. ...,  0.  0.  0.]\n",
      " ..., \n",
      " [ 0.  0.  0. ...,  0.  0.  0.]\n",
      " [ 0.  0.  0. ...,  0.  0.  0.]\n",
      " [ 0.  0.  0. ...,  0.  0.  0.]]\n"
     ]
    }
   ],
   "source": [
    "# Load data\n",
    "#inputfile = os.getcwd() + '/dataset3.txt'  \n",
    "data3 = np.loadtxt('dataset3.csv', delimiter=',')\n",
    "print(data3[:10])"
   ]
  },
  {
   "cell_type": "code",
   "execution_count": 60,
   "metadata": {
    "scrolled": true
   },
   "outputs": [
    {
     "name": "stdout",
     "output_type": "stream",
     "text": [
      "(5000, 401)\n"
     ]
    }
   ],
   "source": [
    "print(data3.shape)"
   ]
  },
  {
   "cell_type": "code",
   "execution_count": 61,
   "metadata": {},
   "outputs": [
    {
     "name": "stdout",
     "output_type": "stream",
     "text": [
      "[[ 0.]\n",
      " [ 0.]\n",
      " [ 0.]\n",
      " [ 0.]\n",
      " [ 0.]\n",
      " [ 0.]\n",
      " [ 0.]\n",
      " [ 0.]\n",
      " [ 0.]\n",
      " [ 0.]]\n",
      "(5000, 400) (5000, 1)\n"
     ]
    }
   ],
   "source": [
    "# Separate features (x) from labels (y)\n",
    "x=data3[:,:-1]\n",
    "y=data3[:,-1] # last column\n",
    "\n",
    "# Number of examples, Dimensions of feature space\n",
    "N, D = x.shape\n",
    "\n",
    "y = np.reshape(y,(N,1))   # re-shape y to column vector\n",
    "print(y[:10])\n",
    "print(x.shape,y.shape)"
   ]
  },
  {
   "cell_type": "code",
   "execution_count": 62,
   "metadata": {},
   "outputs": [
    {
     "name": "stdout",
     "output_type": "stream",
     "text": [
      "N. of examples in class 0 = 500\n",
      "N. of examples in class 1 = 500\n",
      "N. of examples in class 2 = 500\n",
      "N. of examples in class 3 = 500\n",
      "N. of examples in class 4 = 500\n",
      "N. of examples in class 5 = 500\n",
      "N. of examples in class 6 = 500\n",
      "N. of examples in class 7 = 500\n",
      "N. of examples in class 8 = 500\n",
      "N. of examples in class 9 = 500\n"
     ]
    }
   ],
   "source": [
    "for i in range(10):\n",
    "    print(\"N. of examples in class {} = {}\".format(i,np.sum(y==i)))"
   ]
  },
  {
   "cell_type": "code",
   "execution_count": 63,
   "metadata": {
    "collapsed": true,
    "scrolled": true
   },
   "outputs": [],
   "source": [
    "# add column of ones in front of x\n",
    "ones = np.ones((N,1))\n",
    "X = np.concatenate((ones,x),axis=1)"
   ]
  },
  {
   "cell_type": "markdown",
   "metadata": {},
   "source": [
    "### 5.2 Train  Classifiers (one-vs-all)"
   ]
  },
  {
   "cell_type": "code",
   "execution_count": 64,
   "metadata": {
    "scrolled": false
   },
   "outputs": [
    {
     "name": "stdout",
     "output_type": "stream",
     "text": [
      "Loss for class 0 = 0.020147545824167976\n",
      "Loss for class 1 = 0.026960077669453762\n",
      "Loss for class 2 = 0.0684419761172894\n",
      "Loss for class 3 = 0.07170586555422193\n",
      "Loss for class 4 = 0.05205027485629615\n",
      "Loss for class 5 = 0.07685813553953506\n",
      "Loss for class 6 = 0.03478615480066995\n",
      "Loss for class 7 = 0.04672433746662451\n",
      "Loss for class 8 = 0.0927460655283299\n",
      "Loss for class 9 = 0.08931059813224466\n"
     ]
    }
   ],
   "source": [
    "num_classes = 10\n",
    "all_theta = np.zeros((num_classes,D+1))\n",
    "\n",
    "regularization_parameter = 1.0\n",
    "\n",
    "for k in range(num_classes):\n",
    "    \n",
    "    initial_theta = np.zeros((X.shape[1],1))\n",
    "    \n",
    "    y_k = np.array([1 if label == k else 0 for label in y])\n",
    "    y_k = np.reshape(y_k, (X.shape[0], 1))\n",
    "    \n",
    "    all_theta[k,:] = MinimizeRegLoss(initial_theta,X,y_k, regularization_parameter)\n",
    "    print(\"Loss for class {} = {}\".format(k,RegLoss(all_theta[k], X, y_k, regularization_parameter)))\n",
    "    \n"
   ]
  },
  {
   "cell_type": "markdown",
   "metadata": {},
   "source": [
    "### 5.3 Predicted Labels"
   ]
  },
  {
   "cell_type": "code",
   "execution_count": 65,
   "metadata": {},
   "outputs": [
    {
     "data": {
      "text/plain": [
       "(5000, 10)"
      ]
     },
     "execution_count": 65,
     "metadata": {},
     "output_type": "execute_result"
    }
   ],
   "source": [
    "h = sigmoid(np.dot(X,all_theta.T))\n",
    "h.shape"
   ]
  },
  {
   "cell_type": "code",
   "execution_count": 66,
   "metadata": {},
   "outputs": [
    {
     "name": "stdout",
     "output_type": "stream",
     "text": [
      "[[ 0.]\n",
      " [ 0.]\n",
      " [ 0.]\n",
      " ..., \n",
      " [ 9.]\n",
      " [ 9.]\n",
      " [ 7.]]\n"
     ]
    }
   ],
   "source": [
    "y_predicted = np.zeros((X.shape[0],1))\n",
    "\n",
    "for i in range(X.shape[0]):\n",
    "    y_predicted[i] = np.argmax(h[i])\n",
    "\n",
    "print(y_predicted)"
   ]
  },
  {
   "cell_type": "markdown",
   "metadata": {},
   "source": [
    "### 5.4 Performance Metrics"
   ]
  },
  {
   "cell_type": "code",
   "execution_count": 67,
   "metadata": {},
   "outputs": [
    {
     "name": "stdout",
     "output_type": "stream",
     "text": [
      "Total accuracy  = 0.945\n"
     ]
    }
   ],
   "source": [
    "total_accuracy = np.mean(y_predicted==y)\n",
    "print('Total accuracy  = {:.3f}'.format(total_accuracy))"
   ]
  },
  {
   "cell_type": "markdown",
   "metadata": {},
   "source": [
    "<font color='red'>>>> Q9: What are the accuracies for each of the ten classes?</font>"
   ]
  },
  {
   "cell_type": "code",
   "execution_count": 68,
   "metadata": {},
   "outputs": [
    {
     "name": "stdout",
     "output_type": "stream",
     "text": [
      "Accuracy for class 0 = 0.992\n",
      "Accuracy for class 1 = 0.986\n",
      "Accuracy for class 2 = 0.918\n",
      "Accuracy for class 3 = 0.908\n",
      "Accuracy for class 4 = 0.954\n",
      "Accuracy for class 5 = 0.916\n",
      "Accuracy for class 6 = 0.978\n",
      "Accuracy for class 7 = 0.950\n",
      "Accuracy for class 8 = 0.920\n",
      "Accuracy for class 9 = 0.924\n"
     ]
    }
   ],
   "source": [
    "for k in range(num_classes):\n",
    "    accuracy = np.mean(y_predicted[y==k]==k)\n",
    "    print('Accuracy for class {} = {:.3f}'.format(k,accuracy))"
   ]
  },
  {
   "cell_type": "markdown",
   "metadata": {},
   "source": [
    "### 5.5 Train/Test Split"
   ]
  },
  {
   "cell_type": "code",
   "execution_count": 86,
   "metadata": {},
   "outputs": [
    {
     "name": "stdout",
     "output_type": "stream",
     "text": [
      "training set size =  2500\n",
      "test set size =  2500\n"
     ]
    }
   ],
   "source": [
    "train_fraction = 0.8\n",
    "\n",
    "N = X.shape[0] # 5000\n",
    "train_size = int(N*train_fraction)\n",
    "test_size = N-train_size\n",
    "\n",
    "print(\"training set size = \",train_size)\n",
    "print(\"test set size = \",test_size)"
   ]
  },
  {
   "cell_type": "code",
   "execution_count": 87,
   "metadata": {
    "collapsed": true,
    "scrolled": false
   },
   "outputs": [],
   "source": [
    "# Random sampling from dataset\n",
    "X_resampled = []\n",
    "y_resampled = []\n",
    "for i in np.random.randint(N, size = N):\n",
    "    X_resampled.append(X[i])\n",
    "    y_resampled.append(y[i])\n",
    "\n",
    "X_resampled = np.array(X_resampled)\n",
    "y_resampled = np.array(y_resampled)"
   ]
  },
  {
   "cell_type": "markdown",
   "metadata": {},
   "source": [
    "<font color='red'>>>> Q10: Split 'X_resampled' and 'y_resampled' into training and test sets. You should define 'X_train', 'y_train', 'X_test', 'y_test'</font>"
   ]
  },
  {
   "cell_type": "code",
   "execution_count": 88,
   "metadata": {
    "collapsed": true
   },
   "outputs": [],
   "source": [
    "X_train = X_resampled[:train_size]\n",
    "y_train = y_resampled[:train_size]\n",
    "\n",
    "X_test = X_resampled[train_size:]\n",
    "y_test = y_resampled[train_size:]"
   ]
  },
  {
   "cell_type": "markdown",
   "metadata": {},
   "source": [
    "### 5.6 Train one-vs-all multi-class classifiers on training set"
   ]
  },
  {
   "cell_type": "markdown",
   "metadata": {},
   "source": [
    "<font color='red'>>>> Q11: Train one-vs-all classifiers on the training set, to obtain an 'all_theta' array of optimal parameters. 'all_theta' should be a matrix of size ($\\textrm{num}_{classes} \\times (D+1)$ )</font>"
   ]
  },
  {
   "cell_type": "code",
   "execution_count": 89,
   "metadata": {},
   "outputs": [
    {
     "name": "stdout",
     "output_type": "stream",
     "text": [
      "Loss for class 0 = 0.23150413479314258\n",
      "Loss for class 1 = 0.26480965323534095\n",
      "Loss for class 2 = 0.2684478307284889\n",
      "Loss for class 3 = 0.2798989827891371\n",
      "Loss for class 4 = 0.2906610023176911\n",
      "Loss for class 5 = 0.296526146667835\n",
      "Loss for class 6 = 0.2588900402555512\n",
      "Loss for class 7 = 0.277500593856866\n",
      "Loss for class 8 = 0.2917298389764704\n",
      "Loss for class 9 = 0.2829618088572459\n"
     ]
    }
   ],
   "source": [
    "num_classes = 10\n",
    "all_theta = np.zeros((num_classes,D+1))\n",
    "\n",
    "regularization_parameter = 1.0\n",
    "\n",
    "for k in range(num_classes):\n",
    "    \n",
    "    initial_theta = np.zeros((D+1,1))\n",
    "    \n",
    "    y_k = np.array([1 if label == k else 0 for label in y_train])\n",
    "    y_k = np.reshape(y_k, (train_size, 1))\n",
    "    \n",
    "    all_theta[k,:] = MinimizeRegLoss(initial_theta,X_train,y_k, regularization_parameter)\n",
    "    print(\"Loss for class {} = {}\".format(k,RegLoss(all_theta[k], X_train, y_k, regularization_parameter)))\n",
    "    "
   ]
  },
  {
   "cell_type": "markdown",
   "metadata": {},
   "source": [
    "### 5.7 Predicted Labels on Training and Test sets"
   ]
  },
  {
   "cell_type": "markdown",
   "metadata": {},
   "source": [
    "<font color='red'>>>> Q12: Predict labels on training and test sets. You should define 'y_pred_train' (of size (train_size x 1) ) and 'y_pred_test' (of size (test_size x 1) )</font>"
   ]
  },
  {
   "cell_type": "code",
   "execution_count": 90,
   "metadata": {
    "collapsed": true
   },
   "outputs": [],
   "source": [
    "h_train = sigmoid(np.dot(X_train,all_theta.T))\n",
    "h_test = sigmoid(np.dot(X_test,all_theta.T))\n",
    "h = sigmoid(np.dot(X,all_theta.T))\n",
    "\n",
    "y_pred_train = np.zeros((train_size,1))\n",
    "y_pred_test  = np.zeros((test_size,1))\n",
    "\n",
    "for i in range(train_size):\n",
    "    y_pred_train[i] = np.argmax(h_train[i])\n",
    "\n",
    "for i in range(test_size):\n",
    "    y_pred_test[i] = np.argmax(h_test[i])"
   ]
  },
  {
   "cell_type": "markdown",
   "metadata": {},
   "source": [
    "### 5.8 Performance Metrics"
   ]
  },
  {
   "cell_type": "markdown",
   "metadata": {},
   "source": [
    "<font color='red'>>>> Q13: Compute classification accuracy on training and test sets for training fraction=80% and for training fraction=50%</font>"
   ]
  },
  {
   "cell_type": "code",
   "execution_count": 85,
   "metadata": {},
   "outputs": [
    {
     "name": "stdout",
     "output_type": "stream",
     "text": [
      "Training accuracy  = 0.812\n",
      "Test accuracy  = 0.804\n"
     ]
    }
   ],
   "source": [
    "# train_fraction = 0.8\n",
    "train_accuracy = np.mean(y_pred_train==y_train)\n",
    "test_accuracy = np.mean(y_pred_test==y_test)\n",
    "\n",
    "print('Training accuracy  = {:.3f}'.format(train_accuracy))\n",
    "print('Test accuracy  = {:.3f}'.format(test_accuracy))"
   ]
  },
  {
   "cell_type": "code",
   "execution_count": 91,
   "metadata": {},
   "outputs": [
    {
     "name": "stdout",
     "output_type": "stream",
     "text": [
      "Training accuracy  = 0.768\n",
      "Test accuracy  = 0.742\n"
     ]
    }
   ],
   "source": [
    "# train_fraction = 0.5\n",
    "train_accuracy = np.mean(y_pred_train==y_train)\n",
    "test_accuracy = np.mean(y_pred_test==y_test)\n",
    "\n",
    "print('Training accuracy  = {:.3f}'.format(train_accuracy))\n",
    "print('Test accuracy  = {:.3f}'.format(test_accuracy))"
   ]
  }
 ],
 "metadata": {
  "kernelspec": {
   "display_name": "Python 3",
   "language": "python",
   "name": "python3"
  },
  "language_info": {
   "codemirror_mode": {
    "name": "ipython",
    "version": 3
   },
   "file_extension": ".py",
   "mimetype": "text/x-python",
   "name": "python",
   "nbconvert_exporter": "python",
   "pygments_lexer": "ipython3",
   "version": "3.6.1"
  }
 },
 "nbformat": 4,
 "nbformat_minor": 1
}
